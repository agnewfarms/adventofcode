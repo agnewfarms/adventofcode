{
 "cells": [
  {
   "cell_type": "code",
   "execution_count": 3,
   "metadata": {},
   "outputs": [
    {
     "ename": "SyntaxError",
     "evalue": "invalid syntax (<ipython-input-3-0cd0b6506b53>, line 1)",
     "output_type": "error",
     "traceback": [
      "\u001b[1;36m  File \u001b[1;32m\"<ipython-input-3-0cd0b6506b53>\"\u001b[1;36m, line \u001b[1;32m1\u001b[0m\n\u001b[1;33m    use aoc_runner_derive::{aoc, aoc_generator};\u001b[0m\n\u001b[1;37m        ^\u001b[0m\n\u001b[1;31mSyntaxError\u001b[0m\u001b[1;31m:\u001b[0m invalid syntax\n"
     ]
    }
   ],
   "source": [
    "use aoc_runner_derive::{aoc, aoc_generator};\n",
    "use itertools::Itertools;\n",
    "        \n",
    "#[aoc_generator(day1)]\n",
    "\n",
    "fn parse_input(input: &str) -> Vec<u32>{\n",
    "    input.line().map(|line| line.parse().unwrap()).collect()\n",
    "}\n",
    "\n",
    "#[aoc(day1, part1, vec_combinations)]\n",
    "fn solve_part1_combinations(input: &[u32]) -> u32 {\n",
    "    input\n",
    "        .iter()\n",
    "        .copied()\n",
    "        .combinations(2)\n",
    "        .find(|values: &Vec<u32>| values.iter().sum::<u32>() == 2020)\n",
    "        .map(|values| values.iter().product())\n",
    "        .unwrap()\n",
    "}\n",
    "\n",
    "#[aoc(day1, part1, tuple_combinations)]\n",
    "fn solve_part1_tuple_combinations(input: &[u32]) -> u32 {\n",
    "    input\n",
    "        .iter()\n",
    "        .tuple_combinations::<(&u32, &u32)>()\n",
    "        .find(|&(v1, v2)| v1 + v2 == 2020)\n",
    "        .map(|(v1, v2)| v1 * v2)\n",
    "        .unwrap()\n",
    "}\n",
    "#[aoc(day1, part2)]\n",
    "fn solve_part2(input: &[u32]) -> u32 {\n",
    "    input\n",
    "        .iter()\n",
    "        .tuple_combinations::<(&u32, &u32, &u32)>()\n",
    "        .find(|(&v1, &v2, &v3)| v1 + v2 + v3 == 2020)\n",
    "        .map(|(v1, v2, v3)| v1 * v2 * v3)\n",
    "        .unwrap()\n",
    "}\n",
    "\n",
    "#[cfg(test)]\n",
    "mod tests {\n",
    "    use super::*;\n",
    "    \n",
    "    #[test]\n",
    "    fn example(){\n",
    "        let input = r#\"1721\n",
    "988\n",
    "366\n",
    "299\n",
    "675\n",
    "1456\"#;\n",
    "        let input = parse_input(input);\n",
    "        assert_eq!(solve_part1_compbinations(&input), 514579);\n",
    "        assert_eq!(solve_part1_tuple_combinations(&input), 514579);\n",
    "        assert_eq!(solve_part2(&input), 241861950);\n",
    "    }\n",
    "    #[test]\n",
    "    fn real_input() {\n",
    "        let input = include_str(\"../input/2020/day.txt\");\n",
    "        let input = parse_input(input);\n",
    "        \n",
    "        assert_eq!(solve_part1_combinations(&input), 381699);\n",
    "        assert_eq!(solve_part1_tuple_combinations(&input), 381699);\n",
    "        assert_eq!(solve_part2(&input), 111605670);\n",
    "    }\n",
    "}"
   ]
  },
  {
   "cell_type": "code",
   "execution_count": null,
   "metadata": {},
   "outputs": [],
   "source": [
    "\n"
   ]
  },
  {
   "cell_type": "code",
   "execution_count": null,
   "metadata": {},
   "outputs": [],
   "source": []
  },
  {
   "cell_type": "code",
   "execution_count": null,
   "metadata": {},
   "outputs": [],
   "source": []
  }
 ],
 "metadata": {
  "kernelspec": {
   "display_name": "Python 3",
   "language": "python",
   "name": "python3"
  },
  "language_info": {
   "codemirror_mode": {
    "name": "ipython",
    "version": 3
   },
   "file_extension": ".py",
   "mimetype": "text/x-python",
   "name": "python",
   "nbconvert_exporter": "python",
   "pygments_lexer": "ipython3",
   "version": "3.8.5"
  }
 },
 "nbformat": 4,
 "nbformat_minor": 4
}
