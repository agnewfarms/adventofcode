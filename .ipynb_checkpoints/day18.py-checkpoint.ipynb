{
 "cells": [
  {
   "cell_type": "code",
   "execution_count": 7,
   "metadata": {},
   "outputs": [
    {
     "name": "stdout",
     "output_type": "stream",
     "text": [
      "1451467526514\n",
      "224973686321527\n"
     ]
    }
   ],
   "source": [
    "from functools import reduce\n",
    "from operator import add, mul\n",
    "total = 0\n",
    "for line in open('Inputday18.txt'):\n",
    "    line = f'({line})'.replace(')', ')), 0)')\n",
    "    line = line.replace('(', 'reduce(lambda x,y:(add, mul)[y[0]](x, y[1]), ((0,')\n",
    "    line = line.replace('+', '),(0,').replace('*', '),(1,')\n",
    "    total += eval(line)\n",
    "print(total)\n",
    "\n",
    "total = 0\n",
    "for line in open('Inputday18.txt'):\n",
    "    line = f'({line.strip()})'.replace('*', ',')\n",
    "    line = line.replace('(', 'reduce(mul,(')\n",
    "    line = line.replace(')', ',))')\n",
    "    total += eval(line)\n",
    "print(total)"
   ]
  },
  {
   "cell_type": "code",
   "execution_count": null,
   "metadata": {},
   "outputs": [],
   "source": []
  }
 ],
 "metadata": {
  "kernelspec": {
   "display_name": "Python 3",
   "language": "python",
   "name": "python3"
  },
  "language_info": {
   "codemirror_mode": {
    "name": "ipython",
    "version": 3
   },
   "file_extension": ".py",
   "mimetype": "text/x-python",
   "name": "python",
   "nbconvert_exporter": "python",
   "pygments_lexer": "ipython3",
   "version": "3.7.6"
  }
 },
 "nbformat": 4,
 "nbformat_minor": 4
}
