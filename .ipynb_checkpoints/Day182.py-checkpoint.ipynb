{
 "cells": [
  {
   "cell_type": "code",
   "execution_count": 3,
   "metadata": {},
   "outputs": [
    {
     "name": "stdout",
     "output_type": "stream",
     "text": [
      "1: 1451467526514\n",
      "2: 224973686321527\n"
     ]
    }
   ],
   "source": [
    "with open('Inputday18.txt') as f:\n",
    "    data = [line.strip() for line in f]\n",
    "\n",
    "# Operators with function for 2 operands, and precedence level\n",
    "op = {\n",
    "    '+': {'f': lambda x, y: x + y, 'p': 1},\n",
    "    '*': {'f': lambda x, y: x * y, 'p': 1}\n",
    "}\n",
    "\n",
    "# Shunting-yard algorithm, all left-associative\n",
    "# https://en.wikipedia.org/wiki/Shunting-yard_algorithm\n",
    "def shunt(infix):\n",
    "    res = []\n",
    "    stack = []\n",
    "    for token in infix:\n",
    "        if token in '0123456789':\n",
    "            res.append(int(token))\n",
    "        elif token in op:\n",
    "            while len(stack):\n",
    "                x = stack.pop()\n",
    "                if x == '(' or op[x]['p'] < op[token]['p']:\n",
    "                    stack.append(x)\n",
    "                    break\n",
    "                res.append(op[x]['f'](res.pop(), res.pop()))\n",
    "            stack.append(token)\n",
    "        elif token == '(':\n",
    "            stack.append(token)\n",
    "        elif token == ')':\n",
    "            while len(stack):\n",
    "                x = stack.pop()\n",
    "                if x == '(':\n",
    "                    break\n",
    "                res.append(op[x]['f'](res.pop(), res.pop()))\n",
    "    while len(stack):\n",
    "        x = stack.pop()\n",
    "        res.append(op[x]['f'](res.pop(), res.pop()))\n",
    "    return res[0]\n",
    "\n",
    "# Part 1\n",
    "print('1:', sum(map(shunt, data)))\n",
    "\n",
    "# Part 2\n",
    "op['+']['p'] = 2\n",
    "print('2:', sum(map(shunt, data)))"
   ]
  },
  {
   "cell_type": "code",
   "execution_count": null,
   "metadata": {},
   "outputs": [],
   "source": []
  },
  {
   "cell_type": "code",
   "execution_count": null,
   "metadata": {},
   "outputs": [],
   "source": []
  },
  {
   "cell_type": "code",
   "execution_count": null,
   "metadata": {},
   "outputs": [],
   "source": []
  }
 ],
 "metadata": {
  "kernelspec": {
   "display_name": "Python 3",
   "language": "python",
   "name": "python3"
  },
  "language_info": {
   "codemirror_mode": {
    "name": "ipython",
    "version": 3
   },
   "file_extension": ".py",
   "mimetype": "text/x-python",
   "name": "python",
   "nbconvert_exporter": "python",
   "pygments_lexer": "ipython3",
   "version": "3.7.6"
  }
 },
 "nbformat": 4,
 "nbformat_minor": 4
}
