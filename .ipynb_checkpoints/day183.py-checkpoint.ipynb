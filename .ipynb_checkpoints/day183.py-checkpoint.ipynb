{
 "cells": [
  {
   "cell_type": "code",
   "execution_count": 2,
   "metadata": {},
   "outputs": [
    {
     "name": "stdout",
     "output_type": "stream",
     "text": [
      "part-1 answer: 1451467526514\n",
      "part-2 answer: 224973686321527\n"
     ]
    }
   ],
   "source": [
    "import re\n",
    "\n",
    "def left_right(string):\n",
    "    str_sp = re.findall('[+*]|\\d+', string)\n",
    "    if len(str_sp) == 3: return eval(''.join(str_sp[0:3]))\n",
    "    else: return left_right(str(eval(''.join(str_sp[0:3])))+''.join(str_sp[3:]))\n",
    "\n",
    "def plus_domination(string):\n",
    "    str_sp, i = re.findall('[+*]|\\d+', string), 0\n",
    "    while '+' in str_sp:\n",
    "        i += 1\n",
    "        if str_sp[i] == '+':\n",
    "            r = str(int(str_sp[i-1]) + int(str_sp[i+1]))\n",
    "            del str_sp[i-1:i+2]\n",
    "            str_sp.insert(i-1, r); i = 0\n",
    "    return eval(''.join(str_sp))\n",
    "\n",
    "def find_braces(string):\n",
    "    co, indexes, braces = 0, [], []\n",
    "    for c in string:\n",
    "        if c == '(': co += 1\n",
    "        if c == ')': co -= 1\n",
    "        indexes.append(co)\n",
    "    indexes.insert(0, 0)\n",
    "    for e, ij in enumerate(zip(indexes, indexes[1:])):\n",
    "        if [ij[0], ij[1]] == [0, 1] or [ij[0], ij[1]] == [1, 0]: braces.append(e)\n",
    "    return braces\n",
    "\n",
    "def solve(string, func):\n",
    "    braces = find_braces(string)\n",
    "    if braces == []: \n",
    "        return str(func(string))\n",
    "    else:\n",
    "        str_sp, dec = re.findall('[+*()]|\\d+', string), 0\n",
    "        for i in range(0, len(braces), 2):\n",
    "            s, e = braces[i]+1-dec, braces[i+1]-dec\n",
    "            r = solve(''.join(str_sp[s:e]), func = func)\n",
    "            if '*' in r or '+' in r: r = str(func(r))\n",
    "            del str_sp[s-1:e+1]\n",
    "            dec += e - s + 1\n",
    "            str_sp.insert(s-1, r)\n",
    "        return ''.join(str_sp)\n",
    "\n",
    "ops = [l.strip().replace(' ','') for l in open('Inputday18.txt')]\n",
    "f = left_right\n",
    "print(f\"part-1 answer: {sum([f(solve(op, f)) if '(' in op else int(solve(op, f)) for op in ops])}\")\n",
    "f = plus_domination\n",
    "print(f\"part-2 answer: {sum([f(solve(op, f)) if '(' in op else int(solve(op, f)) for op in ops])}\")"
   ]
  },
  {
   "cell_type": "code",
   "execution_count": null,
   "metadata": {},
   "outputs": [],
   "source": []
  }
 ],
 "metadata": {
  "kernelspec": {
   "display_name": "Python 3",
   "language": "python",
   "name": "python3"
  },
  "language_info": {
   "codemirror_mode": {
    "name": "ipython",
    "version": 3
   },
   "file_extension": ".py",
   "mimetype": "text/x-python",
   "name": "python",
   "nbconvert_exporter": "python",
   "pygments_lexer": "ipython3",
   "version": "3.7.6"
  }
 },
 "nbformat": 4,
 "nbformat_minor": 4
}
