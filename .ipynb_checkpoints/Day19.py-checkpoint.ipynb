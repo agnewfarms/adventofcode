{
 "cells": [
  {
   "cell_type": "code",
   "execution_count": 1,
   "metadata": {},
   "outputs": [],
   "source": [
    "#def match(word):\n",
    "#   stack = [([0], word)]\n",
    "#  while stack:\n",
    "#     (r, *rest), word = stack.pop()\n",
    "#    if isinstance(r, int):\n",
    "#       stack.extend((alt + rest, word) for alt in rules[r])\n",
    "#  else:\n",
    "#     if not word.startswith(r): continue\n",
    "#    if rest: stack.append((rest, word[1:]))\n",
    "#   elif len(word) == 1: return True\n",
    "#    return False"
   ]
  },
  {
   "cell_type": "code",
   "execution_count": 5,
   "metadata": {},
   "outputs": [
    {
     "name": "stdout",
     "output_type": "stream",
     "text": [
      "Answer for Task One is 210\n",
      "Answer for Task Two is 422\n"
     ]
    }
   ],
   "source": [
    "#!/usr/bin/python3\n",
    "# Joseph Pitts 19th of December 2020\n",
    "\n",
    "import re\n",
    "\n",
    "\n",
    "def read_data(path):\n",
    "    rules, strings = [line.strip() for line in open(path).read().split(\"\\n\\n\")]\n",
    "    rules = dict([rule.split(\": \") for rule in rules.split(\"\\n\")])\n",
    "\n",
    "    return rules, strings\n",
    "\n",
    "\n",
    "def task_one(rules, strings):\n",
    "    def generate(key):\n",
    "        rule = rules[key]\n",
    "        return rule[1:-1] if '\"' in rule \\\n",
    "            else '(?:' + '|'.join([\"\".join([generate(sub_rule) for sub_rule in op.split()])\n",
    "                                   for op in rule.split(\" | \")]) + ')'\n",
    "\n",
    "    new_rule = re.compile(generate('0'))\n",
    "    return sum([1 for s in strings.split(\"\\n\") if new_rule.fullmatch(s) is not None])\n",
    "\n",
    "\n",
    "def task_two(rules, strings):\n",
    "    def generate(key):\n",
    "        rule = rules[key]\n",
    "        if '\"' in rule:\n",
    "            return rule[1:-1]\n",
    "        elif key == \"8\":\n",
    "            return generate('42') + \"+\"\n",
    "        elif key == \"11\":\n",
    "            # I had to look at r/adventofcode for this, I had no idea\n",
    "            # It's actually quite a smart little hack, it matches\n",
    "            # a and b up to 100 times (To avoid recursion)\n",
    "            a = generate('42')\n",
    "            b = generate('31')\n",
    "            return '(?:' + '|'.join(f\"{a}{{{n}}}{b}{{{n}}}\" for n in range(1, 100)) + ')'\n",
    "        else:\n",
    "            sub = []\n",
    "            for op in rule.split(\" | \"):\n",
    "                nums = op.split()\n",
    "                sub.append(\"\".join(generate(sub_rule) for sub_rule in nums))\n",
    "            return '(?:' + '|'.join(sub) + ')'\n",
    "\n",
    "    new_rule = re.compile(generate('0'))\n",
    "    return sum([1 for s in strings.split(\"\\n\") if new_rule.fullmatch(s) is not None])\n",
    "\n",
    "\n",
    "if __name__ == \"__main__\":\n",
    "    r, s = read_data(\"Inputday19.txt\")\n",
    "    print(f\"Answer for Task One is {task_one(r, s)}\")\n",
    "    print(f\"Answer for Task Two is {task_two(r, s)}\")"
   ]
  },
  {
   "cell_type": "code",
   "execution_count": null,
   "metadata": {},
   "outputs": [],
   "source": []
  }
 ],
 "metadata": {
  "kernelspec": {
   "display_name": "Python 3",
   "language": "python",
   "name": "python3"
  },
  "language_info": {
   "codemirror_mode": {
    "name": "ipython",
    "version": 3
   },
   "file_extension": ".py",
   "mimetype": "text/x-python",
   "name": "python",
   "nbconvert_exporter": "python",
   "pygments_lexer": "ipython3",
   "version": "3.7.6"
  }
 },
 "nbformat": 4,
 "nbformat_minor": 4
}
