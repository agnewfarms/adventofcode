{
 "cells": [
  {
   "cell_type": "code",
   "execution_count": 1,
   "metadata": {},
   "outputs": [
    {
     "name": "stdout",
     "output_type": "stream",
     "text": [
      "Answer for Task One is 348\n",
      "Answer for Task One is 2236\n"
     ]
    }
   ],
   "source": [
    "#!/usr/bin/python3\n",
    "# Joseph Pitts 17th of December 2020\n",
    "from collections import defaultdict\n",
    "from itertools import product\n",
    "\n",
    "\n",
    "def read_data(path):\n",
    "    dataset = []\n",
    "    with open(path) as f:\n",
    "        for line in f.readlines():\n",
    "            tmp = [1 if i == \"#\" else 0 for i in list(line.strip())]\n",
    "            dataset.append(tmp)\n",
    "\n",
    "    return dataset\n",
    "\n",
    "\n",
    "def task_one(initial_state):\n",
    "    activated_cubes = [(i, x, 0) for i, c in enumerate(initial_state) for x in range(len(c)) if c[x] == 1]\n",
    "\n",
    "    for _ in range(6):\n",
    "        neighbors = defaultdict(int)\n",
    "\n",
    "        for x, y, z in activated_cubes:\n",
    "            for dx, dy, dz in product(range(-1, 2), repeat=3):\n",
    "                if (dx, dy, dz) != (0, 0, 0):\n",
    "                    neighbors[(x + dx, y + dy, z + dz)] += 1\n",
    "\n",
    "        # Add cubes that are currently active if they have 2 or 3 active neighbours\n",
    "        new_cubes = [cube for cube, count in neighbors.items() if cube in activated_cubes and count in [2, 3]]\n",
    "        # Add previously inactive cubes if they have 3 active neighbours\n",
    "        new_cubes += [cube for cube, count in neighbors.items() if cube not in activated_cubes and count == 3]\n",
    "\n",
    "        activated_cubes = new_cubes\n",
    "    return len(activated_cubes)\n",
    "\n",
    "\n",
    "def task_two(initial_state):\n",
    "    activated_cubes = [(i, x, 0, 0) for i, c in enumerate(initial_state) for x in range(len(c)) if c[x] == 1]\n",
    "\n",
    "    for _ in range(6):\n",
    "        neighbors = defaultdict(int)\n",
    "\n",
    "        for x, y, z, t in activated_cubes:\n",
    "            for dx, dy, dz, dt in product(range(-1, 2), repeat=4):\n",
    "                if (dx, dy, dz, dt) != (0, 0, 0, 0):\n",
    "                    neighbors[(x + dx, y + dy, z + dz, t + dt)] += 1\n",
    "\n",
    "        # Add cubes that are currently active if they have 2 or 3 active neighbours\n",
    "        new_cubes = [cube for cube, count in neighbors.items() if cube in activated_cubes and count in [2, 3]]\n",
    "        # Add previously inactive cubes if they have 3 active neighbours\n",
    "        new_cubes += [cube for cube, count in neighbors.items() if cube not in activated_cubes and count == 3]\n",
    "\n",
    "        activated_cubes = new_cubes\n",
    "    return len(activated_cubes)\n",
    "\n",
    "\n",
    "if __name__ == \"__main__\":\n",
    "    d = read_data(\"Inputday17.txt\")\n",
    "    print(f\"Answer for Task One is {task_one(d)}\")\n",
    "    print(f\"Answer for Task One is {task_two(d)}\")"
   ]
  },
  {
   "cell_type": "code",
   "execution_count": null,
   "metadata": {},
   "outputs": [],
   "source": []
  }
 ],
 "metadata": {
  "kernelspec": {
   "display_name": "Python 3",
   "language": "python",
   "name": "python3"
  },
  "language_info": {
   "codemirror_mode": {
    "name": "ipython",
    "version": 3
   },
   "file_extension": ".py",
   "mimetype": "text/x-python",
   "name": "python",
   "nbconvert_exporter": "python",
   "pygments_lexer": "ipython3",
   "version": "3.7.6"
  }
 },
 "nbformat": 4,
 "nbformat_minor": 4
}
