{
 "cells": [
  {
   "cell_type": "code",
   "execution_count": 2,
   "metadata": {},
   "outputs": [
    {
     "name": "stdout",
     "output_type": "stream",
     "text": [
      "904\n"
     ]
    }
   ],
   "source": [
    "import math\n",
    "\n",
    "def main():\n",
    "    #filename = 'example'\n",
    "    filename = 'Inputday12.txt'\n",
    "    with open(filename,'r') as infile:\n",
    "        instructions = [(line[0],int(line.strip()[1:]))\n",
    "                        for line in infile.readlines()]\n",
    "\n",
    "\n",
    "    # Boat position is modelled as a vector. The movement commands are\n",
    "    # modelled as unit vectors. Rotation commands affect only the unit\n",
    "    # vector 'F'. Coordinates are changed using vector addition.\n",
    "    coords = (0,0)\n",
    "    movements = {\n",
    "        'N':(0,1),\n",
    "        'E':(1,0),\n",
    "        'S':(0,-1),\n",
    "        'W':(-1,0),\n",
    "        'F':(1,0)}\n",
    "\n",
    "    for instruction,value in instructions:\n",
    "        if instruction in 'LR':\n",
    "            # 'F' is rotated using vector rotation.\n",
    "            # value is converted to radians. L is counterclockwise, R is clockwise\n",
    "            # Value is negative if rotation is clockwise, positive otherwise\n",
    "            # 'F' is then replaced with the rotated vector.\n",
    "\n",
    "            i,j = movements['F']\n",
    "            if instruction == 'R':\n",
    "                value_rad = math.radians(value * (-1))\n",
    "            else:\n",
    "                value_rad = math.radians(value)\n",
    "            x2 = int((i * math.cos(value_rad)) - (j * math.sin(value_rad)))\n",
    "            y2 = int((i * math.sin(value_rad)) + (j * math.cos(value_rad)))\n",
    "            movements['F'] = (x2,y2)\n",
    "        else:\n",
    "            i,j = movements[instruction]\n",
    "            x1,y1 = coords\n",
    "            x2 = i*value\n",
    "            y2 = j*value\n",
    "\n",
    "            coords = (x1 + x2, y1 + y2)\n",
    "\n",
    "    # Manhattan distance\n",
    "    print(abs(coords[0]) + abs(coords[1]))\n",
    "\n",
    "if __name__ == '__main__':\n",
    "    main()"
   ]
  },
  {
   "cell_type": "code",
   "execution_count": 3,
   "metadata": {},
   "outputs": [
    {
     "name": "stdout",
     "output_type": "stream",
     "text": [
      "18747\n"
     ]
    }
   ],
   "source": [
    "import math\n",
    "\n",
    "def main():\n",
    "    #filename = 'example'\n",
    "    filename = 'Inputday12.txt'\n",
    "    with open(filename,'r') as infile:\n",
    "        instructions = [(line[0],int(line.strip()[1:]))\n",
    "                        for line in infile.readlines()]\n",
    "\n",
    "\n",
    "    # Boat position and waypoint position are modelled as vectors.\n",
    "    # The direction commands are modelled as unit vectors that affect only the \n",
    "    # Waypoint vector. The rotation commands rotate the waypoint using vector math\n",
    "    # The F command scalar multiplies the value and the waypoint vector and then\n",
    "    # adds that to the boat vector.\n",
    "    boat_coords = (0,0)\n",
    "    waypoint_coords = (10,1)\n",
    "    movements = {\n",
    "        'N':(0,1),\n",
    "        'E':(1,0),\n",
    "        'S':(0,-1),\n",
    "        'W':(-1,0),\n",
    "        }\n",
    "\n",
    "    for instruction,value in instructions:\n",
    "        if instruction in 'LR':\n",
    "            # The waypoint is rotated using vector rotation.\n",
    "            # value is converted to radians. L is counterclockwise, R is clockwise\n",
    "            # Value is negative if rotation is clockwise, positive otherwise\n",
    "            # The waypoint coords are then replaced with the rotated vector.\n",
    "\n",
    "            x1,y1 = waypoint_coords\n",
    "            if instruction == 'R':\n",
    "                value_rad = math.radians(value * (-1))\n",
    "            else:\n",
    "                value_rad = math.radians(value)\n",
    "            x2 = int(x1 * math.cos(value_rad)) - int(y1 * math.sin(value_rad))\n",
    "            y2 = int(x1 * math.sin(value_rad)) + int(y1 * math.cos(value_rad))\n",
    "\n",
    "            waypoint_coords = (x2,y2)\n",
    "        elif instruction in 'NSEW':\n",
    "            i,j = movements[instruction]\n",
    "            x1,y1 = waypoint_coords\n",
    "            x2 = i*value\n",
    "            y2 = j*value\n",
    "            waypoint_coords = (x1+x2, y1+y2)\n",
    "\n",
    "        elif instruction == 'F':\n",
    "            x1,y1 = boat_coords\n",
    "            x2,y2 = waypoint_coords\n",
    "            boat_coords = ((x1 + (x2 * value)),(y1 + (y2 * value)))\n",
    "\n",
    "    # Manhattan distance\n",
    "    print(abs(boat_coords[0]) + abs(boat_coords[1]))\n",
    "\n",
    "if __name__ == '__main__':\n",
    "    main()"
   ]
  },
  {
   "cell_type": "code",
   "execution_count": null,
   "metadata": {},
   "outputs": [],
   "source": []
  }
 ],
 "metadata": {
  "kernelspec": {
   "display_name": "Python 3",
   "language": "python",
   "name": "python3"
  },
  "language_info": {
   "codemirror_mode": {
    "name": "ipython",
    "version": 3
   },
   "file_extension": ".py",
   "mimetype": "text/x-python",
   "name": "python",
   "nbconvert_exporter": "python",
   "pygments_lexer": "ipython3",
   "version": "3.8.5"
  }
 },
 "nbformat": 4,
 "nbformat_minor": 4
}
