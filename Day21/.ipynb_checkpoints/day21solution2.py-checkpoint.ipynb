{
 "cells": [
  {
   "cell_type": "code",
   "execution_count": 5,
   "metadata": {},
   "outputs": [
    {
     "name": "stdout",
     "output_type": "stream",
     "text": [
      "2125\n",
      "phc,spnd,zmsdzh,pdt,fqqcnm,lsgqf,rjc,lzvh\n"
     ]
    }
   ],
   "source": [
    "import numpy as np\n",
    "import re\n",
    "from collections import Counter, OrderedDict\n",
    "\n",
    "with open(\"Inputday21.txt\", \"r\") as f:\n",
    "    data = [l.rstrip() for l in f.readlines()]\n",
    "    \n",
    "ingredients, allergens = [],[]\n",
    "\n",
    "for line in data:\n",
    "    bracket = line.index(\"(\") - 1\n",
    "    ingredients.append(line[:bracket].split(\" \"))\n",
    "    allergens.append(line[bracket + 11:-1].replace(\",\", \"\").split(\" \"))\n",
    "    \n",
    "allergen_count = Counter([a for b in allergens for a in b])\n",
    "ingredient_count = Counter([a for b in ingredients for a in b])\n",
    "\n",
    "def map_allergen(allergen, existing_map={}):\n",
    "    ingredient_count = Counter()\n",
    "    occurances = 0\n",
    "    \n",
    "    for i, a in zip(ingredients, allergens):\n",
    "        if allergen in a:\n",
    "            ingredient_count.update(i)\n",
    "            occurances += 1\n",
    "    mapping_candidates = []\n",
    "    for k, v in ingredient_count.items():\n",
    "        if v == occurances and k not in existing_map.values():\n",
    "            mapping_candidates.append(k)\n",
    "    return mapping_candidates\n",
    "\n",
    "allergen_map = {}\n",
    "candidates = list(allergen_count.keys())\n",
    "\n",
    "while len(candidates) > 0:\n",
    "    for a in candidates:\n",
    "        out = map_allergen(a, allergen_map)\n",
    "        if len(out) ==1: #single match only\n",
    "            allergen_map[a] = out[0]\n",
    "            candidates.remove(a)\n",
    "            break\n",
    "safe_ingredients = [i for i in ingredient_count.keys() if i not in allergen_map.values()]\n",
    "print(sum([ingredient_count[i] for i in safe_ingredients]))\n",
    "\n",
    "sorted_allergens = OrderedDict(sorted(allergen_map.items(), key=lambda t: t[0]))\n",
    "print(\",\".join(sorted_allergens.values()))\n"
   ]
  },
  {
   "cell_type": "code",
   "execution_count": null,
   "metadata": {},
   "outputs": [],
   "source": []
  }
 ],
 "metadata": {
  "kernelspec": {
   "display_name": "Python 3",
   "language": "python",
   "name": "python3"
  },
  "language_info": {
   "codemirror_mode": {
    "name": "ipython",
    "version": 3
   },
   "file_extension": ".py",
   "mimetype": "text/x-python",
   "name": "python",
   "nbconvert_exporter": "python",
   "pygments_lexer": "ipython3",
   "version": "3.7.6"
  }
 },
 "nbformat": 4,
 "nbformat_minor": 4
}
