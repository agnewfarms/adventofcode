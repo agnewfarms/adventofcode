{
 "cells": [
  {
   "cell_type": "code",
   "execution_count": 1,
   "metadata": {},
   "outputs": [
    {
     "name": "stdout",
     "output_type": "stream",
     "text": [
      "Part 1: 1384\n",
      "Part 2: 0\n"
     ]
    }
   ],
   "source": [
    "import copy\n",
    "\n",
    "copy_i = \"\"\n",
    "\n",
    "r = open(\"Inputday8.txt\", \"r\")\n",
    "instructions = []\n",
    "for i in r.readlines():\n",
    "\tinstructions.append([i[:3], int(i[4:].replace('\\n', ''))])\n",
    "\n",
    "def get_acc(instructions):\n",
    "\tacc = 0\n",
    "\tinfy = False\n",
    "\tindex = 0\n",
    "\tstep = [None] * len(instructions) * 1000\n",
    "\twhile index < len(instructions):\n",
    "\t\toperation = instructions[index][0]\n",
    "\t\targument = instructions[index][1]\n",
    "\t\tif operation == 'nop':\n",
    "\t\t\tstep[index] = True\n",
    "\t\t\tindex += 1\n",
    "\t\telif operation == 'acc':\n",
    "\t\t\tstep[index] = True\n",
    "\t\t\tacc += argument\n",
    "\t\t\tindex += 1\n",
    "\t\telif operation == 'jmp':\n",
    "\t\t\tstep[index] = True\n",
    "\t\t\tindex += argument\n",
    "\t\tif step[index]:\n",
    "\t\t\tinfy = True\n",
    "\t\t\tbreak\n",
    "\treturn acc, infy\n",
    "\n",
    "part1 = get_acc(instructions)[0]\n",
    "print(\"Part 1: {0}\".format(part1))\n",
    "\n",
    "new_acc = 0\n",
    "for i in range(len(instructions)):\n",
    "\tif instructions[i][0] == 'nop':\n",
    "\t\tcopy_i = copy.deepcopy(instructions)\n",
    "\t\tcopy_i[i][0] = 'jmp'\n",
    "\telif instructions[i][0] == 'jmp':\n",
    "\t\tcopy_i = copy.deepcopy(instructions)\n",
    "\t\tcopy_i[i][0] = 'nop'\n",
    "\n",
    "\tnew_acc, infy = get_acc(copy_i)\n",
    "\tif not infy:\n",
    "\t\tbreak\n",
    "print(\"Part 2: {0}\".format(new_acc))"
   ]
  },
  {
   "cell_type": "code",
   "execution_count": null,
   "metadata": {},
   "outputs": [],
   "source": []
  },
  {
   "cell_type": "code",
   "execution_count": null,
   "metadata": {},
   "outputs": [],
   "source": []
  }
 ],
 "metadata": {
  "kernelspec": {
   "display_name": "Python 3",
   "language": "python",
   "name": "python3"
  },
  "language_info": {
   "codemirror_mode": {
    "name": "ipython",
    "version": 3
   },
   "file_extension": ".py",
   "mimetype": "text/x-python",
   "name": "python",
   "nbconvert_exporter": "python",
   "pygments_lexer": "ipython3",
   "version": "3.7.6"
  }
 },
 "nbformat": 4,
 "nbformat_minor": 4
}
