{
 "cells": [
  {
   "cell_type": "code",
   "execution_count": 1,
   "metadata": {},
   "outputs": [
    {
     "name": "stdout",
     "output_type": "stream",
     "text": [
      "SOLUTION1: 1384, SOLUTION2: 761\n"
     ]
    }
   ],
   "source": [
    "def parse_file(filename):\n",
    "    with open(filename, 'r') as file:\n",
    "        return [line.strip() for line in file]\n",
    "\n",
    "def find_solutions(data):\n",
    "    part_1 = find_solution_1(data)\n",
    "    part_2 = find_solution_2(data)\n",
    "    return part_1, part_2\n",
    "\n",
    "def find_solution_1(data):\n",
    "    line_position = acc = 0\n",
    "    exit_program = False\n",
    "    executed_lines = []\n",
    "    while not exit_program:\n",
    "        if line_position not in executed_lines:\n",
    "            executed_lines.append(line_position)\n",
    "            command, argument = get_instruction(line_position, data)\n",
    "            line_position, acc = run_instruction(command, argument, line_position, acc, data)\n",
    "        else:\n",
    "            exit_program = True\n",
    "    return acc\n",
    "\n",
    "def find_solution_2(data):\n",
    "    line_position = acc = 0\n",
    "    exit_program = False\n",
    "    executed_lines = []\n",
    "    changed_instructions = []\n",
    "    current_attempt = 1\n",
    "\n",
    "    while not exit_program:\n",
    "        if line_position not in executed_lines:\n",
    "            executed_lines.append(line_position)\n",
    "            command, argument = get_instruction(line_position, data)\n",
    "\n",
    "            if len(changed_instructions) < current_attempt:\n",
    "                if line_position not in changed_instructions:\n",
    "                    if command != 'acc':\n",
    "                        changed_instructions.append(line_position)\n",
    "                        if command == 'jmp':\n",
    "                            command = 'nop'\n",
    "                        elif command == 'nop':\n",
    "                            command = 'jmp'\n",
    "\n",
    "            line_position, acc = run_instruction(command, argument, line_position, acc, data)\n",
    "\n",
    "            if line_position >= len(data):\n",
    "                exit_program = True\n",
    "\n",
    "        else:\n",
    "            line_position = acc = 0\n",
    "            executed_lines = []\n",
    "            current_attempt += 1\n",
    "\n",
    "    return acc\n",
    "\n",
    "def get_instruction(line_position, data):\n",
    "    command = data[line_position].split(' ')[0]\n",
    "    argument = int(data[line_position].split(' ')[1])\n",
    "    return command, argument\n",
    "\n",
    "def run_instruction(command, argument, line_position, acc, data):\n",
    "    if command == 'jmp':\n",
    "        line_position += argument\n",
    "    else:\n",
    "        line_position += 1\n",
    "        if command == 'acc':\n",
    "            acc += argument\n",
    "\n",
    "    return line_position, acc\n",
    "\n",
    "\n",
    "if __name__ == \"__main__\":\n",
    "    data = parse_file('Inputday8.txt')\n",
    "    solution1, solution2 = find_solutions(data)\n",
    "    print(f'SOLUTION1: {solution1}, SOLUTION2: {solution2}')"
   ]
  },
  {
   "cell_type": "code",
   "execution_count": null,
   "metadata": {},
   "outputs": [],
   "source": []
  }
 ],
 "metadata": {
  "kernelspec": {
   "display_name": "Python 3",
   "language": "python",
   "name": "python3"
  },
  "language_info": {
   "codemirror_mode": {
    "name": "ipython",
    "version": 3
   },
   "file_extension": ".py",
   "mimetype": "text/x-python",
   "name": "python",
   "nbconvert_exporter": "python",
   "pygments_lexer": "ipython3",
   "version": "3.7.6"
  }
 },
 "nbformat": 4,
 "nbformat_minor": 4
}
