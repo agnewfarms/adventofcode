{
 "cells": [
  {
   "cell_type": "code",
   "execution_count": 1,
   "metadata": {},
   "outputs": [
    {
     "name": "stderr",
     "output_type": "stream",
     "text": [
      "The system cannot find the path specified.\n"
     ]
    },
    {
     "name": "stdout",
     "output_type": "stream",
     "text": [
      "To get 13233401 use loop size: 16679169\n",
      "To get 6552760 use loop size: 7725933\n",
      "The encryption key is 17673381\n"
     ]
    }
   ],
   "source": [
    "!/usr/bin/env python\n",
    "# -*- coding: utf-8 -*-\n",
    "\n",
    "# read puzzle input\n",
    "public_keys = [13233401, 6552760]\n",
    "#public_keys = [17807724, 5764801]\n",
    "\n",
    "#13233401\n",
    "#6552760\n",
    "\n",
    "initial_subject = 7\n",
    "\n",
    "def brute_force(key):\n",
    "    current_loop = 1\n",
    "    solved_key = 1\n",
    "    while solved_key != key:\n",
    "        solved_key = (solved_key * initial_subject) % 20201227\n",
    "        current_loop += 1\n",
    "    return(current_loop-1)\n",
    "\n",
    "loop_sizes = [brute_force(public_keys[0]), brute_force(public_keys[1])]\n",
    "\n",
    "print(\"To get {} use loop size: {}\".format(\n",
    "    public_keys[0], loop_sizes[0])\n",
    ")\n",
    "print(\"To get {} use loop size: {}\".format(\n",
    "    public_keys[1], loop_sizes[1])\n",
    ")\n",
    "\n",
    "solved_keys = [1, 1]\n",
    "for i in range(loop_sizes[0]):\n",
    "    solved_keys[0] = (solved_keys[0] * public_keys[1]) % 20201227\n",
    "for i in range(loop_sizes[1]):\n",
    "    solved_keys[1] = (solved_keys[1] * public_keys[0]) % 20201227\n",
    "\n",
    "if len(set(solved_keys)) == 1:\n",
    "    print(\"The encryption key is {}\".format(solved_keys[0]))"
   ]
  },
  {
   "cell_type": "code",
   "execution_count": null,
   "metadata": {},
   "outputs": [],
   "source": []
  }
 ],
 "metadata": {
  "kernelspec": {
   "display_name": "Python 3",
   "language": "python",
   "name": "python3"
  },
  "language_info": {
   "codemirror_mode": {
    "name": "ipython",
    "version": 3
   },
   "file_extension": ".py",
   "mimetype": "text/x-python",
   "name": "python",
   "nbconvert_exporter": "python",
   "pygments_lexer": "ipython3",
   "version": "3.8.5"
  }
 },
 "nbformat": 4,
 "nbformat_minor": 4
}
