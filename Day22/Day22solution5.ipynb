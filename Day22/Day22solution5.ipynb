{
 "cells": [
  {
   "cell_type": "code",
   "execution_count": 9,
   "metadata": {},
   "outputs": [
    {
     "name": "stdout",
     "output_type": "stream",
     "text": [
      "sum 30780\n",
      "sum 30780\n"
     ]
    }
   ],
   "source": [
    "data = open(\"Inputday22.txt\").read().splitlines()\n",
    "player1 = list(map(int, data[1:26]))\n",
    "player2 = list(map(int, data[28:54]))\n",
    "\n",
    "while player1 and player2:\n",
    "    card1 = player1.pop(0)\n",
    "    card2 = player2.pop(0)\n",
    "    if card1 > card2:\n",
    "        player1.extend([card1, card2])\n",
    "    else:\n",
    "        player2.extend([card2, card1])\n",
    "        \n",
    "win = player1 if player1 else player2\n",
    "print(\"sum\", sum((a+1) * b for a, b in enumerate(reversed(win))))\n",
    "\n",
    "\n",
    "data = open(\"Inputday22.txt\").read().splitlines()\n",
    "player1 = list(map(int, data[1:26]))\n",
    "player2 = list(map(int, data[28:54]))\n",
    "\n",
    "while player1 and player2:\n",
    "    card1 = player1.pop(0)\n",
    "    card2 = player2.pop(0)\n",
    "    if card1 > card2:\n",
    "        player1.extend([card1, card2])\n",
    "    else:\n",
    "        player2.extend([card2, card1])\n",
    "        \n",
    "win = player1 if player1 else payer2\n",
    "print(\"sum\", sum((a+1) * b for a, b in enumerate(reversed(win))))"
   ]
  },
  {
   "cell_type": "code",
   "execution_count": 12,
   "metadata": {},
   "outputs": [
    {
     "ename": "TypeError",
     "evalue": "'int' object is not reversible",
     "output_type": "error",
     "traceback": [
      "\u001b[1;31m---------------------------------------------------------------------------\u001b[0m",
      "\u001b[1;31mTypeError\u001b[0m                                 Traceback (most recent call last)",
      "\u001b[1;32m<ipython-input-12-22e57d960555>\u001b[0m in \u001b[0;36m<module>\u001b[1;34m\u001b[0m\n\u001b[0;32m     31\u001b[0m \u001b[1;33m\u001b[0m\u001b[0m\n\u001b[0;32m     32\u001b[0m \u001b[0mwindeck\u001b[0m \u001b[1;33m=\u001b[0m \u001b[0mgame\u001b[0m\u001b[1;33m(\u001b[0m\u001b[1;36m0\u001b[0m\u001b[1;33m,\u001b[0m \u001b[0mplayer1\u001b[0m\u001b[1;33m,\u001b[0m \u001b[0mplayer2\u001b[0m\u001b[1;33m)\u001b[0m\u001b[1;33m\u001b[0m\u001b[1;33m\u001b[0m\u001b[0m\n\u001b[1;32m---> 33\u001b[1;33m \u001b[0mprint\u001b[0m\u001b[1;33m(\u001b[0m\u001b[1;34m\"sum\"\u001b[0m\u001b[1;33m,\u001b[0m \u001b[0msum\u001b[0m\u001b[1;33m(\u001b[0m\u001b[1;33m(\u001b[0m\u001b[0ma\u001b[0m\u001b[1;33m+\u001b[0m\u001b[1;36m1\u001b[0m\u001b[1;33m)\u001b[0m \u001b[1;33m*\u001b[0m \u001b[0mb\u001b[0m \u001b[1;32mfor\u001b[0m \u001b[0ma\u001b[0m\u001b[1;33m,\u001b[0m \u001b[0mb\u001b[0m \u001b[1;32min\u001b[0m \u001b[0menumerate\u001b[0m\u001b[1;33m(\u001b[0m\u001b[0mreversed\u001b[0m\u001b[1;33m(\u001b[0m\u001b[0mwindeck\u001b[0m \u001b[1;33m)\u001b[0m\u001b[1;33m)\u001b[0m\u001b[1;33m)\u001b[0m\u001b[1;33m)\u001b[0m\u001b[1;33m\u001b[0m\u001b[1;33m\u001b[0m\u001b[0m\n\u001b[0m\u001b[0;32m     34\u001b[0m \u001b[1;33m\u001b[0m\u001b[0m\n\u001b[0;32m     35\u001b[0m \u001b[1;31m#def game(player1, player2):\u001b[0m\u001b[1;33m\u001b[0m\u001b[1;33m\u001b[0m\u001b[1;33m\u001b[0m\u001b[0m\n",
      "\u001b[1;31mTypeError\u001b[0m: 'int' object is not reversible"
     ]
    }
   ],
   "source": [
    "data = open(\"Inputday22.txt\").read().splitlines()\n",
    "player1 = list(map(int, data[1:26]))\n",
    "player2 = list(map(int, data[28:54]))\n",
    "\n",
    "def game(depth, player1, player2):\n",
    "    records = {}\n",
    "    \n",
    "    while player1 and player2:\n",
    "        key = str(player1)+str(player2)\n",
    "        if key in records:\n",
    "            return 0\n",
    "        records[key] = None\n",
    "        \n",
    "    card1 = player1.pop(0)\n",
    "    card2 = player2.pop(0)\n",
    "    \n",
    "    if len(player1) >= card1 and len(player2) >= card2:\n",
    "        winner = game(depth+1, player1[:card1], player2[:card2])\n",
    "    else:\n",
    "        winner = card2 > card1\n",
    "        \n",
    "    if winner:\n",
    "        player2.extend([card2, card1])\n",
    "    else:\n",
    "        player1.extend([card1, card2])\n",
    "        \n",
    "    if depth == 0:\n",
    "        return (player2 if winner else player1)\n",
    "\n",
    "    return winner\n",
    "\n",
    "windeck = game(0, player1, player2)\n",
    "print(\"sum\", sum((a+1) * b for a, b in enumerate(reversed(windeck ))))\n",
    "        \n",
    "#def game(player1, player2):\n",
    " #   records = {}\n",
    " #   while player1 and player2:\n",
    " #       key = str(player1)+str(player2)\n",
    " #       if key in records:\n",
    " #           return 0\n",
    " #   records[key] = None\n",
    " #   \n",
    " #   card1 = player1.pop(0)\n",
    " #   card2 = player2.pop(0)\n",
    "#\n",
    " #   if len(player1) >= card1 and len(player2) >= card2:\n",
    "  #      winner = game(player1[:card1], player2[:card2])\n",
    "   # else:\n",
    "  #      winner = card2 > card1\n",
    "  #  if winner:\n",
    "  #      player2.extend([card2, card1])\n",
    "  #      \n",
    "  #  return winner\n",
    "\n",
    "#winner = game(player1, player2)"
   ]
  },
  {
   "cell_type": "code",
   "execution_count": null,
   "metadata": {},
   "outputs": [],
   "source": []
  }
 ],
 "metadata": {
  "kernelspec": {
   "display_name": "Python 3",
   "language": "python",
   "name": "python3"
  },
  "language_info": {
   "codemirror_mode": {
    "name": "ipython",
    "version": 3
   },
   "file_extension": ".py",
   "mimetype": "text/x-python",
   "name": "python",
   "nbconvert_exporter": "python",
   "pygments_lexer": "ipython3",
   "version": "3.7.6"
  }
 },
 "nbformat": 4,
 "nbformat_minor": 4
}
