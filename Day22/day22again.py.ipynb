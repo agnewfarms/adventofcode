{
 "cells": [
  {
   "cell_type": "code",
   "execution_count": 11,
   "metadata": {},
   "outputs": [
    {
     "ename": "SyntaxError",
     "evalue": "invalid syntax (<ipython-input-11-a6da5dea7d56>, line 3)",
     "output_type": "error",
     "traceback": [
      "\u001b[1;36m  File \u001b[1;32m\"<ipython-input-11-a6da5dea7d56>\"\u001b[1;36m, line \u001b[1;32m3\u001b[0m\n\u001b[1;33m    decks = [deck.split(':') for deck in decks ]\u001b[0m\n\u001b[1;37m        ^\u001b[0m\n\u001b[1;31mSyntaxError\u001b[0m\u001b[1;31m:\u001b[0m invalid syntax\n"
     ]
    }
   ],
   "source": [
    "from collections import deque, namedtuple\n",
    "decks = list(filter(lambda x:x,open(\"Inputday22.txt\".read().split('\\n\\n')))\n",
    "decks = [deck.split(':') for deck in decks ]\n",
    "decks = {name: tuple(int(i) for i in list(filter(lambda x:x, cards.split('\\n')))) for (name, cards) in decks}\n",
    "\n",
    "deck1 = decks['Player 1']\n",
    "deck2 = decks['Player 2']"
   ]
  },
  {
   "cell_type": "code",
   "execution_count": 6,
   "metadata": {},
   "outputs": [
    {
     "ename": "NameError",
     "evalue": "name 'deck1' is not defined",
     "output_type": "error",
     "traceback": [
      "\u001b[1;31m---------------------------------------------------------------------------\u001b[0m",
      "\u001b[1;31mNameError\u001b[0m                                 Traceback (most recent call last)",
      "\u001b[1;32m<ipython-input-6-90789e00fade>\u001b[0m in \u001b[0;36m<module>\u001b[1;34m\u001b[0m\n\u001b[1;32m----> 1\u001b[1;33m \u001b[1;32mwhile\u001b[0m \u001b[0mlen\u001b[0m\u001b[1;33m(\u001b[0m\u001b[0mdeck1\u001b[0m\u001b[1;33m)\u001b[0m \u001b[1;33m>\u001b[0m \u001b[1;36m0\u001b[0m \u001b[1;32mand\u001b[0m \u001b[0mlen\u001b[0m\u001b[1;33m(\u001b[0m\u001b[0mdeck2\u001b[0m\u001b[1;33m)\u001b[0m \u001b[1;33m>\u001b[0m \u001b[1;36m0\u001b[0m\u001b[1;33m:\u001b[0m\u001b[1;33m\u001b[0m\u001b[1;33m\u001b[0m\u001b[0m\n\u001b[0m\u001b[0;32m      2\u001b[0m     \u001b[0mc1\u001b[0m\u001b[1;33m,\u001b[0m \u001b[1;33m*\u001b[0m\u001b[0mdeck1\u001b[0m \u001b[1;33m=\u001b[0m \u001b[0mdeck1\u001b[0m\u001b[1;33m\u001b[0m\u001b[1;33m\u001b[0m\u001b[0m\n\u001b[0;32m      3\u001b[0m     \u001b[0mc2\u001b[0m\u001b[1;33m,\u001b[0m \u001b[1;33m*\u001b[0m\u001b[0mdeck2\u001b[0m \u001b[1;33m=\u001b[0m \u001b[0mdeck2\u001b[0m\u001b[1;33m\u001b[0m\u001b[1;33m\u001b[0m\u001b[0m\n\u001b[0;32m      4\u001b[0m     \u001b[1;32mif\u001b[0m \u001b[0mc1\u001b[0m \u001b[1;33m>\u001b[0m \u001b[0mc2\u001b[0m\u001b[1;33m:\u001b[0m\u001b[1;33m\u001b[0m\u001b[1;33m\u001b[0m\u001b[0m\n\u001b[0;32m      5\u001b[0m         \u001b[0mdeck1\u001b[0m \u001b[1;33m+=\u001b[0m \u001b[1;33m(\u001b[0m\u001b[0mc1\u001b[0m\u001b[1;33m,\u001b[0m \u001b[0mc2\u001b[0m\u001b[1;33m)\u001b[0m\u001b[1;33m\u001b[0m\u001b[1;33m\u001b[0m\u001b[0m\n",
      "\u001b[1;31mNameError\u001b[0m: name 'deck1' is not defined"
     ]
    }
   ],
   "source": [
    "while len(deck1) > 0 and len(deck2) > 0:\n",
    "    c1, *deck1 = deck1\n",
    "    c2, *deck2 = deck2\n",
    "    if c1 > c2:\n",
    "        deck1 += (c1, c2)\n",
    "    else:\n",
    "        deck2 += (c2, c1)\n",
    "print(deck1, deck2)\n",
    "sum([reduce(lambda x,y:x+y, [x * y for (x,y) in zip(deck, range(len(deck),))])])"
   ]
  },
  {
   "cell_type": "code",
   "execution_count": 3,
   "metadata": {},
   "outputs": [
    {
     "ename": "SyntaxError",
     "evalue": "EOL while scanning string literal (<ipython-input-3-6ff6f22a6369>, line 5)",
     "output_type": "error",
     "traceback": [
      "\u001b[1;36m  File \u001b[1;32m\"<ipython-input-3-6ff6f22a6369>\"\u001b[1;36m, line \u001b[1;32m5\u001b[0m\n\u001b[1;33m    while len(deck1) > 0 and len(deck2) > 0\"\u001b[0m\n\u001b[1;37m                                            ^\u001b[0m\n\u001b[1;31mSyntaxError\u001b[0m\u001b[1;31m:\u001b[0m EOL while scanning string literal\n"
     ]
    }
   ],
   "source": [
    "def rec_combat(deck1, deck2, indent=0, debug=False):\n",
    "    memo = {}\n",
    "    if debug : print(\"\\t\"*indent, \"round\", rnd, \":\", deck1, deck2)\n",
    "    rnd = 0\n",
    "    while len(deck1) > 0 and len(deck2) > 0\"\n",
    "        rnd += 1\n",
    "        if debug : print(\"\\t\"*indent, \"round\", rnd, \":\", deck1, deck2)\n",
    "            \n",
    "        if any(deck in memo for deck in (deck1, deck2)):\n",
    "            if debug : print(\"\\t\"*indent, \"already seen player 1 wins\")\n",
    "            winner = 'Player 1'\n",
    "            loser = 'Player 2'\n",
    "            break \n",
    "        else:\n",
    "            for deck in (deck1, deck2):\n",
    "                memo[deck] = True\n",
    "                \n",
    "        c1, deck1 = deck1[0], deck1[1:]\n",
    "        c2, deck2 = deck2[0], deck2[1:]\n",
    "        \n",
    "        if debug : print(\"\\t\"*indent,\"P1 plays\", c1)\n",
    "        if debug : print(\"\\t\"*indent,\"P2 plays\", c2)  \n",
    "        \n",
    "        if c1 <= len(deck1) and c2 <= len(deck2):\n",
    "            winner, loser, _, _ = rec_combat(deck1[0:c1]), deck2[0:c2], indent+1, debug)\n",
    "            \n",
    "        else:\n",
    "            if c1 > c2:\n",
    "                winner = 'Player 1'\n",
    "                loser = 'Player 2'\n",
    "            else\n",
    "                winner = 'Player 2'\n",
    "                loser = 'Player 1'\n",
    "                \n",
    "        if winner == 'Player 1':\n",
    "            deck1 += (c1, c2)\n",
    "        else:\n",
    "            deck2 += (c2, c1)\n",
    "            \n",
    "        if debug : print(\"\\t\"*indent, winner, \"wins the round\")\n",
    "    if debug : print(\"\\t\"*indent, winner,\"wins the game\")\n",
    "    return winner, loser, deck1, deck2"
   ]
  },
  {
   "cell_type": "raw",
   "metadata": {},
   "source": []
  }
 ],
 "metadata": {
  "kernelspec": {
   "display_name": "Python 3",
   "language": "python",
   "name": "python3"
  },
  "language_info": {
   "codemirror_mode": {
    "name": "ipython",
    "version": 3
   },
   "file_extension": ".py",
   "mimetype": "text/x-python",
   "name": "python",
   "nbconvert_exporter": "python",
   "pygments_lexer": "ipython3",
   "version": "3.8.5"
  }
 },
 "nbformat": 4,
 "nbformat_minor": 4
}
