{
 "cells": [
  {
   "cell_type": "code",
   "execution_count": 6,
   "metadata": {},
   "outputs": [
    {
     "ename": "TypeError",
     "evalue": "'>' not supported between instances of 'int' and 'str'",
     "output_type": "error",
     "traceback": [
      "\u001b[1;31m---------------------------------------------------------------------------\u001b[0m",
      "\u001b[1;31mTypeError\u001b[0m                                 Traceback (most recent call last)",
      "\u001b[1;32m<ipython-input-6-4de595426a70>\u001b[0m in \u001b[0;36m<module>\u001b[1;34m\u001b[0m\n\u001b[0;32m     69\u001b[0m     \u001b[0mprint\u001b[0m\u001b[1;33m(\u001b[0m\u001b[1;34m\"solution to partII is: \"\u001b[0m\u001b[1;33m,\u001b[0m \u001b[0mtotal\u001b[0m\u001b[1;33m)\u001b[0m\u001b[1;33m\u001b[0m\u001b[1;33m\u001b[0m\u001b[0m\n\u001b[0;32m     70\u001b[0m \u001b[1;33m\u001b[0m\u001b[0m\n\u001b[1;32m---> 71\u001b[1;33m \u001b[0mrun_part_1\u001b[0m\u001b[1;33m(\u001b[0m\u001b[1;33m)\u001b[0m\u001b[1;33m\u001b[0m\u001b[1;33m\u001b[0m\u001b[0m\n\u001b[0m\u001b[0;32m     72\u001b[0m \u001b[0mrun_part_2\u001b[0m\u001b[1;33m(\u001b[0m\u001b[1;33m)\u001b[0m\u001b[1;33m\u001b[0m\u001b[1;33m\u001b[0m\u001b[0m\n\u001b[0;32m     73\u001b[0m \u001b[1;33m\u001b[0m\u001b[0m\n",
      "\u001b[1;32m<ipython-input-6-4de595426a70>\u001b[0m in \u001b[0;36mrun_part_1\u001b[1;34m()\u001b[0m\n\u001b[0;32m     26\u001b[0m \u001b[1;33m\u001b[0m\u001b[0m\n\u001b[0;32m     27\u001b[0m \u001b[1;32mdef\u001b[0m \u001b[0mrun_part_1\u001b[0m\u001b[1;33m(\u001b[0m\u001b[1;33m)\u001b[0m\u001b[1;33m:\u001b[0m\u001b[1;33m\u001b[0m\u001b[1;33m\u001b[0m\u001b[0m\n\u001b[1;32m---> 28\u001b[1;33m     \u001b[0mcards\u001b[0m \u001b[1;33m=\u001b[0m \u001b[0mplay\u001b[0m\u001b[1;33m(\u001b[0m\u001b[0mplayer_1\u001b[0m\u001b[1;33m[\u001b[0m\u001b[1;33m:\u001b[0m\u001b[1;33m]\u001b[0m\u001b[1;33m,\u001b[0m \u001b[0mplayer_2\u001b[0m\u001b[1;33m[\u001b[0m\u001b[1;33m:\u001b[0m\u001b[1;33m]\u001b[0m\u001b[1;33m)\u001b[0m\u001b[1;33m\u001b[0m\u001b[1;33m\u001b[0m\u001b[0m\n\u001b[0m\u001b[0;32m     29\u001b[0m     \u001b[0mcards\u001b[0m \u001b[1;33m=\u001b[0m \u001b[0mlist\u001b[0m\u001b[1;33m(\u001b[0m\u001b[0mreversed\u001b[0m\u001b[1;33m(\u001b[0m\u001b[0mcards\u001b[0m\u001b[1;33m)\u001b[0m\u001b[1;33m)\u001b[0m\u001b[1;33m\u001b[0m\u001b[1;33m\u001b[0m\u001b[0m\n\u001b[0;32m     30\u001b[0m     \u001b[0mtotal\u001b[0m \u001b[1;33m=\u001b[0m \u001b[0msum\u001b[0m\u001b[1;33m(\u001b[0m\u001b[0mw\u001b[0m \u001b[1;33m*\u001b[0m \u001b[1;33m(\u001b[0m\u001b[0mi\u001b[0m \u001b[1;33m+\u001b[0m \u001b[1;36m1\u001b[0m\u001b[1;33m)\u001b[0m \u001b[1;32mfor\u001b[0m \u001b[0mi\u001b[0m\u001b[1;33m,\u001b[0m \u001b[0mw\u001b[0m \u001b[1;32min\u001b[0m \u001b[0menumerate\u001b[0m\u001b[1;33m(\u001b[0m\u001b[0mcards\u001b[0m\u001b[1;33m)\u001b[0m\u001b[1;33m)\u001b[0m\u001b[1;33m\u001b[0m\u001b[1;33m\u001b[0m\u001b[0m\n",
      "\u001b[1;32m<ipython-input-6-4de595426a70>\u001b[0m in \u001b[0;36mplay\u001b[1;34m(player_1, player_2)\u001b[0m\n\u001b[0;32m     17\u001b[0m     \u001b[0mtop_2\u001b[0m \u001b[1;33m=\u001b[0m \u001b[0mplayer_2\u001b[0m\u001b[1;33m.\u001b[0m\u001b[0mpop\u001b[0m\u001b[1;33m(\u001b[0m\u001b[1;36m0\u001b[0m\u001b[1;33m)\u001b[0m\u001b[1;33m\u001b[0m\u001b[1;33m\u001b[0m\u001b[0m\n\u001b[0;32m     18\u001b[0m \u001b[1;33m\u001b[0m\u001b[0m\n\u001b[1;32m---> 19\u001b[1;33m     \u001b[1;32mif\u001b[0m \u001b[0mtop_1\u001b[0m \u001b[1;33m>\u001b[0m \u001b[0mtop_2\u001b[0m\u001b[1;33m:\u001b[0m\u001b[1;33m\u001b[0m\u001b[1;33m\u001b[0m\u001b[0m\n\u001b[0m\u001b[0;32m     20\u001b[0m         \u001b[0mplayer_1\u001b[0m\u001b[1;33m.\u001b[0m\u001b[0mextend\u001b[0m\u001b[1;33m(\u001b[0m\u001b[1;33m[\u001b[0m\u001b[0mtop_1\u001b[0m\u001b[1;33m,\u001b[0m \u001b[0mtop_2\u001b[0m\u001b[1;33m]\u001b[0m\u001b[1;33m)\u001b[0m\u001b[1;33m\u001b[0m\u001b[1;33m\u001b[0m\u001b[0m\n\u001b[0;32m     21\u001b[0m \u001b[1;33m\u001b[0m\u001b[0m\n",
      "\u001b[1;31mTypeError\u001b[0m: '>' not supported between instances of 'int' and 'str'"
     ]
    }
   ],
   "source": [
    "with open(\"Inputday22.txt\") as f:\n",
    "    data = f.read().rstrip().split(\"\\n\\n\")\n",
    "    \n",
    "    player_1 = data[0].split(\"\\n\")[1:]\n",
    "    player_2 = data[1].split(\"\\n\")[1:]\n",
    "    \n",
    "    player_1 = [int(e) for e in player_1]\n",
    "    player_1 = [int(e) for e in player_2]\n",
    "    \n",
    "def play(player_1, player_2):\n",
    "    if len(player_1) == 0:\n",
    "        return player_2\n",
    "    if len(player_2) == 0:\n",
    "        return player_1\n",
    "    \n",
    "    top_1 = player_1.pop(0)\n",
    "    top_2 = player_2.pop(0)\n",
    "    \n",
    "    if top_1 > top_2:\n",
    "        player_1.extend([top_1, top_2])\n",
    "        \n",
    "    else:\n",
    "        player_2.extend([top_2, top_1])\n",
    "            \n",
    "    return play(player_1, player_2)\n",
    "    \n",
    "def run_part_1():\n",
    "    cards = play(player_1[:], player_2[:])\n",
    "    cards = list(reversed(cards))\n",
    "    total = sum(w * (i + 1) for i, w in enumerate(cards))\n",
    "    print(\"Solution to part I is: \", total)\n",
    "    \n",
    "def play_recursive(player_1, player_2):\n",
    "    \n",
    "    state_1 = []\n",
    "    state_2 = []\n",
    "    \n",
    "    while True:\n",
    "        if (player_1 in state_1 or player_2 in state_2):\n",
    "            return \"1\", player_1\n",
    "        \n",
    "        state_1.append(player_1[:])\n",
    "        state_2.append(player_2[:])\n",
    "        \n",
    "        top_1 = player_1.pop(0)\n",
    "        top_2 = player_2.pop(0)\n",
    "        \n",
    "        if top_1 <= len(player_1) and top_2 <= len(player_2):\n",
    "            winner, cards = play_recursive(player_1[:top_1][:], player_2[top_2][:])\n",
    "            if winner == \"1\":\n",
    "                player_1.extend([top_1, top_2])\n",
    "            else:\n",
    "                player_2.extend([top_2, top_1])\n",
    "        else:\n",
    "            if top_1 > top_2:\n",
    "                player_1.extend([top_1, top_2])\n",
    "            else:\n",
    "                player_2.extend([top_2, top_1])\n",
    "                \n",
    "        if len(player_1) == 0:\n",
    "            return \"2\", player_2\n",
    "        elif len(player_2) == 0:\n",
    "            return \"1\", player_1\n",
    "def run_part_2():\n",
    "    winner, cards = play_recursive(player_1[:], player_2[:])\n",
    "    print(f\"The winner is player {winner}\")\n",
    "    cards = list(reversed(cards))\n",
    "    total = sum(w * (i + 1) for i, w in enumerate(cards))\n",
    "    print(\"solution to partII is: \", total)\n",
    "    \n",
    "run_part_1()\n",
    "run_part_2()\n",
    "\n",
    "        "
   ]
  },
  {
   "cell_type": "code",
   "execution_count": null,
   "metadata": {},
   "outputs": [],
   "source": []
  },
  {
   "cell_type": "code",
   "execution_count": null,
   "metadata": {},
   "outputs": [],
   "source": []
  }
 ],
 "metadata": {
  "kernelspec": {
   "display_name": "Python 3",
   "language": "python",
   "name": "python3"
  },
  "language_info": {
   "codemirror_mode": {
    "name": "ipython",
    "version": 3
   },
   "file_extension": ".py",
   "mimetype": "text/x-python",
   "name": "python",
   "nbconvert_exporter": "python",
   "pygments_lexer": "ipython3",
   "version": "3.7.6"
  }
 },
 "nbformat": 4,
 "nbformat_minor": 4
}
