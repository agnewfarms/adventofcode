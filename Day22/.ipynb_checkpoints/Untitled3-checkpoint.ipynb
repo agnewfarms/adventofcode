{
 "cells": [
  {
   "cell_type": "code",
   "execution_count": 6,
   "metadata": {},
   "outputs": [
    {
     "ename": "SyntaxError",
     "evalue": "(unicode error) 'unicodeescape' codec can't decode bytes in position 2-3: truncated \\UXXXXXXXX escape (<ipython-input-6-b1968dbf71bc>, line 2)",
     "output_type": "error",
     "traceback": [
      "\u001b[1;36m  File \u001b[1;32m\"<ipython-input-6-b1968dbf71bc>\"\u001b[1;36m, line \u001b[1;32m2\u001b[0m\n\u001b[1;33m    sys.path.append('C:\\Users\\agnew\\AppData\\Local\\Microsoft\\WindowsApps\\PythonSoftwareFoundation.Python.3.8_qbz5n2kfra8p0\\Day22project.py')\u001b[0m\n\u001b[1;37m                   ^\u001b[0m\n\u001b[1;31mSyntaxError\u001b[0m\u001b[1;31m:\u001b[0m (unicode error) 'unicodeescape' codec can't decode bytes in position 2-3: truncated \\UXXXXXXXX escape\n"
     ]
    }
   ],
   "source": [
    "import sys\n",
    "sys.path.append('C:\\Users\\agnew\\AppData\\Local\\Microsoft\\WindowsApps\\PythonSoftwareFoundation.Python.3.8_qbz5n2kfra8p0\\Day22project.py')\n",
    "from copy import deepcopy\n",
    "from math import prod\n",
    "\n",
    "with open('Inputday22.txt') as f:\n",
    "    decks = [list(map(int, d.strip().split('\\n')[1:])) for d in f.read().split('\\n\\n')]\n",
    "\n",
    "def deckid(deck):\n",
    "    return sum(map(prod, zip(range(len(deck), 0, -1), deck)))\n",
    "\n",
    "def gameid(decks):\n",
    "    return [deckid(d) for d in decks]\n",
    "\n",
    "# Part 1\n",
    "def combat1(decks):\n",
    "    while len(decks[0]) and len(decks[1]):\n",
    "        draw = [d.pop(0) for d in decks]\n",
    "        w = 0 if draw[0] > draw[1] else 1\n",
    "        decks[w].extend([draw[w], draw[1 - w]])\n",
    "    return sum(gameid(decks))\n",
    "\n",
    "print(combat1(deepcopy(decks)))\n",
    "\n",
    "# Part 2\n",
    "def combat2(decks):\n",
    "    state = set()\n",
    "    while len(decks[0]) and len(decks[1]):\n",
    "        i, j = gameid(decks)\n",
    "        id = 10000 * i + j  # unique enough\n",
    "        if id in state:\n",
    "            return 0  # player 1 wins\n",
    "        else:\n",
    "            state.add(id)\n",
    "        draw = [d.pop(0) for d in decks]\n",
    "        if len(decks[0]) >= draw[0] and len(decks[1]) >= draw[1]:\n",
    "            w = combat2([decks[0][:draw[0]], decks[1][:draw[1]]])\n",
    "        else:\n",
    "            w = 0 if draw[0] > draw[1] else 1\n",
    "        decks[w].extend([draw[w], draw[1 - w]])\n",
    "    return 0 if len(decks[0]) else 1\n",
    "\n",
    "print(deckid(decks[combat2(decks)]))\n",
    "\n",
    "\n",
    "Python\n"
   ]
  },
  {
   "cell_type": "code",
   "execution_count": null,
   "metadata": {},
   "outputs": [],
   "source": []
  }
 ],
 "metadata": {
  "kernelspec": {
   "display_name": "Python 3",
   "language": "python",
   "name": "python3"
  },
  "language_info": {
   "codemirror_mode": {
    "name": "ipython",
    "version": 3
   },
   "file_extension": ".py",
   "mimetype": "text/x-python",
   "name": "python",
   "nbconvert_exporter": "python",
   "pygments_lexer": "ipython3",
   "version": "3.7.6"
  }
 },
 "nbformat": 4,
 "nbformat_minor": 4
}
