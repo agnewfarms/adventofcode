{
 "cells": [
  {
   "cell_type": "code",
   "execution_count": 4,
   "metadata": {},
   "outputs": [
    {
     "name": "stdout",
     "output_type": "stream",
     "text": [
      "[7987]\n"
     ]
    },
    {
     "ename": "MemoryError",
     "evalue": "Unable to allocate 868. TiB for an array with shape (119315717514047,) and data type int64",
     "output_type": "error",
     "traceback": [
      "\u001b[1;31m---------------------------------------------------------------------------\u001b[0m",
      "\u001b[1;31mMemoryError\u001b[0m                               Traceback (most recent call last)",
      "\u001b[1;32m<ipython-input-4-aee062623601>\u001b[0m in \u001b[0;36m<module>\u001b[1;34m\u001b[0m\n\u001b[0;32m     50\u001b[0m \u001b[1;33m\u001b[0m\u001b[0m\n\u001b[0;32m     51\u001b[0m \u001b[0mcards\u001b[0m \u001b[1;33m=\u001b[0m \u001b[1;36m119315717514047\u001b[0m\u001b[1;33m\u001b[0m\u001b[1;33m\u001b[0m\u001b[0m\n\u001b[1;32m---> 52\u001b[1;33m \u001b[0mdeck\u001b[0m \u001b[1;33m=\u001b[0m \u001b[0mnp\u001b[0m\u001b[1;33m.\u001b[0m\u001b[0marange\u001b[0m\u001b[1;33m(\u001b[0m\u001b[0mcards\u001b[0m\u001b[1;33m)\u001b[0m\u001b[1;33m\u001b[0m\u001b[1;33m\u001b[0m\u001b[0m\n\u001b[0m\u001b[0;32m     53\u001b[0m \u001b[1;33m\u001b[0m\u001b[0m\n\u001b[0;32m     54\u001b[0m \u001b[1;32mfor\u001b[0m \u001b[0mr\u001b[0m \u001b[1;32min\u001b[0m \u001b[0mrange\u001b[0m\u001b[1;33m(\u001b[0m\u001b[1;36m101741582076661\u001b[0m\u001b[1;33m)\u001b[0m \u001b[1;33m:\u001b[0m\u001b[1;33m\u001b[0m\u001b[1;33m\u001b[0m\u001b[0m\n",
      "\u001b[1;31mMemoryError\u001b[0m: Unable to allocate 868. TiB for an array with shape (119315717514047,) and data type int64"
     ]
    }
   ],
   "source": [
    "#!/bin/python\n",
    "\n",
    "import numpy as np\n",
    "import sys\n",
    "\n",
    "def deal_to_new_stack(deck):\n",
    "    return deck[::-1]\n",
    "\n",
    "def cut(deck,n):\n",
    "    #print(\"--- cutting ----\")\n",
    "    #print(deck,n)\n",
    "    slice = deck[0:n]\n",
    "    #print(slice)\n",
    "    deck = deck[n:]\n",
    "    #print(deck)\n",
    "    deck = np.concatenate((deck,slice),axis=0)\n",
    "    return deck\n",
    "\n",
    "def deal_with_increment(deck,n):\n",
    "    pos_old_deck = -1\n",
    "    pos_new_deck = -n\n",
    "\n",
    "    new_deck = np.zeros(cards,int)\n",
    "    while pos_old_deck < cards -1:\n",
    "        pos_old_deck += 1\n",
    "        pos_new_deck += n \n",
    "        pos_new_deck %= cards\n",
    "        new_deck[pos_new_deck] = deck[pos_old_deck]\n",
    "        #print(pos_old_deck,pos_new_deck,new_deck)\n",
    "\n",
    "    return new_deck\n",
    "\n",
    "cards = 10007\n",
    "\n",
    "deck = np.arange(cards)\n",
    "#print(deck)\n",
    "\n",
    "code = open(\"Inputday22.txt\").read().strip().split('\\n')\n",
    "\n",
    "for instr in code:\n",
    "    instr_arr = instr.split(' ')\n",
    "    if instr_arr[0] == 'cut':\n",
    "        deck = cut(deck,int(instr_arr[1]))\n",
    "    elif instr_arr[0] == 'deal' and instr_arr[1] == 'with' :\n",
    "        deck = deal_with_increment(deck,int(instr_arr[3]))\n",
    "    else:\n",
    "        deck = deal_to_new_stack(deck)\n",
    "\n",
    "print(np.where(deck == 2019)[0])\n",
    "\n",
    "cards = 119315717514047\n",
    "deck = np.arange(cards)\n",
    "\n",
    "for r in range(101741582076661) :\n",
    "    for instr in code:\n",
    "        instr_arr = instr.split(' ')\n",
    "    if instr_arr[0] == 'cut':\n",
    "        deck = cut(deck,int(instr_arr[1]))\n",
    "    elif instr_arr[0] == 'deal' and instr_arr[1] == 'with' :\n",
    "        deck = deal_with_increment(deck,int(instr_arr[3]))\n",
    "    else:\n",
    "        deck = deal_to_new_stack(deck)\n",
    "\n",
    "print(np.where(deck == 2020)[0])"
   ]
  },
  {
   "cell_type": "code",
   "execution_count": null,
   "metadata": {},
   "outputs": [],
   "source": []
  },
  {
   "cell_type": "code",
   "execution_count": null,
   "metadata": {},
   "outputs": [],
   "source": []
  }
 ],
 "metadata": {
  "kernelspec": {
   "display_name": "Python 3",
   "language": "python",
   "name": "python3"
  },
  "language_info": {
   "codemirror_mode": {
    "name": "ipython",
    "version": 3
   },
   "file_extension": ".py",
   "mimetype": "text/x-python",
   "name": "python",
   "nbconvert_exporter": "python",
   "pygments_lexer": "ipython3",
   "version": "3.7.6"
  }
 },
 "nbformat": 4,
 "nbformat_minor": 4
}
