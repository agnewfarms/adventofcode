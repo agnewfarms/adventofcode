{
 "cells": [
  {
   "cell_type": "code",
   "execution_count": 2,
   "metadata": {},
   "outputs": [
    {
     "ename": "TypeError",
     "evalue": "'type' object is not subscriptable",
     "output_type": "error",
     "traceback": [
      "\u001b[1;31m---------------------------------------------------------------------------\u001b[0m",
      "\u001b[1;31mTypeError\u001b[0m                                 Traceback (most recent call last)",
      "\u001b[1;32m<ipython-input-2-9c425fee28c2>\u001b[0m in \u001b[0;36m<module>\u001b[1;34m\u001b[0m\n\u001b[0;32m     10\u001b[0m     \u001b[1;32mreturn\u001b[0m \u001b[0mwrapper_method\u001b[0m\u001b[1;33m\u001b[0m\u001b[1;33m\u001b[0m\u001b[0m\n\u001b[0;32m     11\u001b[0m \u001b[1;33m\u001b[0m\u001b[0m\n\u001b[1;32m---> 12\u001b[1;33m \u001b[1;32mdef\u001b[0m \u001b[0mread_file\u001b[0m\u001b[1;33m(\u001b[0m\u001b[0minput_file\u001b[0m\u001b[1;33m:\u001b[0m \u001b[0mstr\u001b[0m\u001b[1;33m)\u001b[0m \u001b[1;33m->\u001b[0m \u001b[0mlist\u001b[0m\u001b[1;33m[\u001b[0m\u001b[0mstr\u001b[0m\u001b[1;33m]\u001b[0m\u001b[1;33m:\u001b[0m\u001b[1;33m\u001b[0m\u001b[1;33m\u001b[0m\u001b[0m\n\u001b[0m\u001b[0;32m     13\u001b[0m     \u001b[1;32mwith\u001b[0m \u001b[0mopen\u001b[0m\u001b[1;33m(\u001b[0m\u001b[0minput_file\u001b[0m\u001b[1;33m,\u001b[0m \u001b[1;34m'r'\u001b[0m\u001b[1;33m)\u001b[0m \u001b[1;32mas\u001b[0m \u001b[0mfile\u001b[0m\u001b[1;33m:\u001b[0m\u001b[1;33m\u001b[0m\u001b[1;33m\u001b[0m\u001b[0m\n\u001b[0;32m     14\u001b[0m         \u001b[1;32mreturn\u001b[0m \u001b[0mfile\u001b[0m\u001b[1;33m.\u001b[0m\u001b[0mread\u001b[0m\u001b[1;33m(\u001b[0m\u001b[1;33m)\u001b[0m\u001b[1;33m.\u001b[0m\u001b[0msplit\u001b[0m\u001b[1;33m(\u001b[0m\u001b[1;34m'\\n'\u001b[0m\u001b[1;33m)\u001b[0m\u001b[1;33m[\u001b[0m\u001b[1;33m:\u001b[0m\u001b[1;33m-\u001b[0m\u001b[1;36m1\u001b[0m\u001b[1;33m]\u001b[0m\u001b[1;33m\u001b[0m\u001b[1;33m\u001b[0m\u001b[0m\n",
      "\u001b[1;31mTypeError\u001b[0m: 'type' object is not subscriptable"
     ]
    }
   ],
   "source": [
    "import time\n",
    "\n",
    "\n",
    "def profiler(method):\n",
    "    def wrapper_method(*arg, **kw):\n",
    "        t = time.time()\n",
    "        ret = method(*arg, **kw)\n",
    "        print('Method '  + method.__name__ +' took : ' + \"{:2.5f}\".format(time.time()-t) + ' sec')\n",
    "        return ret\n",
    "    return wrapper_method\n",
    "\n",
    "def read_file(input_file: str) -> list[str]:\n",
    "    with open(input_file, 'r') as file:\n",
    "        return file.read().split('\\n')[:-1]\n",
    "\n",
    "@profiler\n",
    "def part1(lines: list[str]):\n",
    "    player_1_cards = []\n",
    "    player_2_cards = []\n",
    "\n",
    "    empty_index = lines.index('')\n",
    "    for line in lines[1:empty_index]:\n",
    "        player_1_cards.append(int(line))\n",
    "\n",
    " \n",
    "    for line in lines[empty_index + 2:]:\n",
    "        player_2_cards.append(int(line))\n",
    "\n",
    "    round = 1\n",
    "    while len(player_1_cards) > 0 and len(player_2_cards) > 0:\n",
    "        p1_card = player_1_cards.pop(0)\n",
    "        p2_card = player_2_cards.pop(0)\n",
    "        if p1_card > p2_card:\n",
    "            player_1_cards.append(p1_card)\n",
    "            player_1_cards.append(p2_card)\n",
    "        elif p2_card > p1_card:\n",
    "            player_2_cards.append(p2_card)\n",
    "            player_2_cards.append(p1_card)\n",
    "        round += 1\n",
    "\n",
    "    if len(player_1_cards) != 0:\n",
    "        print(sum([x * (i + 1) for i, x in enumerate(reversed(player_1_cards))]))\n",
    "    elif len(player_2_cards) != 0:\n",
    "        print(sum([x * (i + 1) for i, x in enumerate(reversed(player_2_cards))]))\n",
    "\n",
    "if __name__ == \"__main__\":\n",
    "    lines = read_file('Inputday22.txt')\n",
    "    part1(lines)\n"
   ]
  },
  {
   "cell_type": "code",
   "execution_count": null,
   "metadata": {},
   "outputs": [],
   "source": []
  }
 ],
 "metadata": {
  "kernelspec": {
   "display_name": "Python 3",
   "language": "python",
   "name": "python3"
  },
  "language_info": {
   "codemirror_mode": {
    "name": "ipython",
    "version": 3
   },
   "file_extension": ".py",
   "mimetype": "text/x-python",
   "name": "python",
   "nbconvert_exporter": "python",
   "pygments_lexer": "ipython3",
   "version": "3.8.5"
  }
 },
 "nbformat": 4,
 "nbformat_minor": 4
}
