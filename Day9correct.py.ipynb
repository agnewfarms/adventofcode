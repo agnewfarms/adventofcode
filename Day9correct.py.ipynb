{
 "cells": [
  {
   "cell_type": "code",
   "execution_count": 1,
   "metadata": {},
   "outputs": [
    {
     "name": "stdout",
     "output_type": "stream",
     "text": [
      "Task1: 138879426\n",
      "Task2: 23761694\n"
     ]
    }
   ],
   "source": [
    "#!/bin/env python\n",
    "\"\"\" Advent of Code Day 9 \"\"\"\n",
    "from itertools import combinations\n",
    "\n",
    "\n",
    "class Day9:\n",
    "    \"\"\" Class for processing of day 9 \"\"\"\n",
    "    def __init__(self, preamble):\n",
    "        self.numbers = []\n",
    "        self.sums = set()\n",
    "        self.preamble = preamble\n",
    "\n",
    "    def get_sums(self, position):\n",
    "        \"\"\" Fill in the sums set for previous numbers \"\"\"\n",
    "        self.sums = set()\n",
    "        for comb in combinations(self.numbers[position-self.preamble: position], 2):\n",
    "            self.sums.add(sum(comb))\n",
    "\n",
    "    def load_input(self, file_name):\n",
    "        \"\"\" load the input \"\"\"\n",
    "        with open(file_name, \"r\") as in_file:\n",
    "            self.numbers = [int(line.rstrip('\\n')) for line in in_file]\n",
    "\n",
    "    def get_task1(self):\n",
    "        \"\"\" Find the first number that is not valid \"\"\"\n",
    "        for position, line in enumerate(self.numbers[self.preamble:]):\n",
    "            self.get_sums(position+self.preamble)\n",
    "            if line not in self.sums:\n",
    "                print(f\"Task1: {line}\")\n",
    "                return line\n",
    "\n",
    "        return 0\n",
    "\n",
    "    def get_task2(self, target_sum: int):\n",
    "        \"\"\" Find the smallest and largest number in a list producing the required sum \"\"\"\n",
    "\n",
    "        for pos, line in enumerate(self.numbers):\n",
    "            list_sum = line\n",
    "            # loop through the list until a match is found or over the target\n",
    "\n",
    "            for offset, line2 in enumerate(self.numbers[pos+1:]):\n",
    "                offset += 1\n",
    "                list_sum += line2\n",
    "\n",
    "                if list_sum == target_sum:\n",
    "                    min_value = min(self.numbers[pos:offset+pos+1])\n",
    "                    max_value = max(self.numbers[pos:offset+pos+1])\n",
    "\n",
    "                    print(f\"Task2: {min_value+max_value}\")\n",
    "                    return min_value+max_value\n",
    "\n",
    "                if list_sum > target_sum:\n",
    "                    break\n",
    "\n",
    "        return 0\n",
    "\n",
    "\n",
    "def test_app():\n",
    "    \"\"\" Run the tests \"\"\"\n",
    "    runner = Day9(5)\n",
    "    runner.load_input(\"input9_test\")\n",
    "    task1_solution = runner.get_task1()\n",
    "    assert task1_solution == 127\n",
    "    assert runner.get_task2(task1_solution) == 62\n",
    "\n",
    "\n",
    "if __name__ == \"__main__\":\n",
    "    day_processor = Day9(25)\n",
    "    day_processor.load_input(\"Inputday9.txt\")\n",
    "    task1 = day_processor.get_task1()\n",
    "    day_processor.get_task2(task1)"
   ]
  },
  {
   "cell_type": "code",
   "execution_count": null,
   "metadata": {},
   "outputs": [],
   "source": []
  }
 ],
 "metadata": {
  "kernelspec": {
   "display_name": "Python 3",
   "language": "python",
   "name": "python3"
  },
  "language_info": {
   "codemirror_mode": {
    "name": "ipython",
    "version": 3
   },
   "file_extension": ".py",
   "mimetype": "text/x-python",
   "name": "python",
   "nbconvert_exporter": "python",
   "pygments_lexer": "ipython3",
   "version": "3.7.6"
  }
 },
 "nbformat": 4,
 "nbformat_minor": 4
}
