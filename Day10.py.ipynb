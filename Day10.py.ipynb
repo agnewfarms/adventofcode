{
 "cells": [
  {
   "cell_type": "code",
   "execution_count": 1,
   "metadata": {},
   "outputs": [
    {
     "name": "stdout",
     "output_type": "stream",
     "text": [
      "2376\n",
      "129586085429248\n"
     ]
    }
   ],
   "source": [
    "from collections import *\n",
    "from functools import lru_cache\n",
    "import heapq\n",
    "import itertools\n",
    "import math\n",
    "import random\n",
    "import sys\n",
    "\n",
    "\n",
    "def main(lines: list) -> None:\n",
    "    jolts = {1: 0, 2: 0, 3: 1}\n",
    "    for i, item in enumerate(lines):\n",
    "        if i == 0:\n",
    "            curr = lines[i]\n",
    "            jolts[curr] += 1\n",
    "            continue\n",
    "        diff = item - curr\n",
    "        if 0 < diff < 4:\n",
    "            jolts[item - curr] += 1\n",
    "\n",
    "        curr = lines[i]\n",
    "\n",
    "    print(jolts[1] * jolts[3])\n",
    "\n",
    "    a = [0] + lines + [lines[-1] + 3]\n",
    "    dp = [1]\n",
    "    for i in range(1, len(a)):\n",
    "        ans = 0\n",
    "        for j in range(i):\n",
    "            if a[j] + 3 >= a[i]:\n",
    "                ans += dp[j]\n",
    "        dp.append(ans)\n",
    "    print(dp[-1])\n",
    "\n",
    "\n",
    "if __name__ == \"__main__\":\n",
    "    fin = open(\"Inputday10.txt\", \"r\")\n",
    "    lines = sorted(set(int(line.strip()) for line in fin.readlines() if line.strip()))\n",
    "    main(lines)\n"
   ]
  },
  {
   "cell_type": "code",
   "execution_count": null,
   "metadata": {},
   "outputs": [],
   "source": []
  }
 ],
 "metadata": {
  "kernelspec": {
   "display_name": "Python 3",
   "language": "python",
   "name": "python3"
  },
  "language_info": {
   "codemirror_mode": {
    "name": "ipython",
    "version": 3
   },
   "file_extension": ".py",
   "mimetype": "text/x-python",
   "name": "python",
   "nbconvert_exporter": "python",
   "pygments_lexer": "ipython3",
   "version": "3.7.6"
  }
 },
 "nbformat": 4,
 "nbformat_minor": 4
}
