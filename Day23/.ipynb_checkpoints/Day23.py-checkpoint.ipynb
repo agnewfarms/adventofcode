{
 "cells": [
  {
   "cell_type": "code",
   "execution_count": 2,
   "metadata": {},
   "outputs": [
    {
     "name": "stdout",
     "output_type": "stream",
     "text": [
      "part-1 answer: 72496583\n",
      "part-2 answer: 41785843847\n"
     ]
    }
   ],
   "source": [
    "def pch(ch, e, c):\n",
    "    return '' if c == len(ch) else str(e) + pch(ch, ch[e], c+1)\n",
    "\n",
    "def solve(_in, m):\n",
    "    ch = {i:_in[(p+1)%len(_in)] for p, i in enumerate(_in)}\n",
    "    cc = _in[0]\n",
    "    for move in range(m):\n",
    "        fc, mc, lc   = ch[cc], ch[ch[cc]], ch[ch[ch[cc]]]\n",
    "        ch[cc] = ch[lc]\n",
    "        d = cc-1\n",
    "        if d < 1: d = max(_in)\n",
    "        while d in [fc, mc, lc]:\n",
    "            d -= 1\n",
    "            if d < 1: d = max(_in)\n",
    "        _d = ch[d]\n",
    "        ch[d], ch[lc], cc = fc, _d, ch[cc]\n",
    "    return ch\n",
    "\n",
    "_in = [3,1,5,6,7,9,8,2,4]\n",
    "ch = solve(_in, 100)\n",
    "print(f'part-1 answer: {pch(ch, 1, 0)[1:]}')\n",
    "\n",
    "_in += list(range(max(_in)+1, 1000000+1))\n",
    "ch = solve(_in, 10000000)\n",
    "print(f'part-2 answer: {ch[1] * ch[ch[1]]}')\n",
    "\n",
    "\n",
    "#315679824"
   ]
  },
  {
   "cell_type": "code",
   "execution_count": null,
   "metadata": {},
   "outputs": [],
   "source": []
  }
 ],
 "metadata": {
  "kernelspec": {
   "display_name": "Python 3",
   "language": "python",
   "name": "python3"
  },
  "language_info": {
   "codemirror_mode": {
    "name": "ipython",
    "version": 3
   },
   "file_extension": ".py",
   "mimetype": "text/x-python",
   "name": "python",
   "nbconvert_exporter": "python",
   "pygments_lexer": "ipython3",
   "version": "3.7.6"
  }
 },
 "nbformat": 4,
 "nbformat_minor": 4
}
