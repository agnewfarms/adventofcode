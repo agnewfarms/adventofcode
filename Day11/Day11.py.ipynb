{
 "cells": [
  {
   "cell_type": "code",
   "execution_count": 8,
   "metadata": {},
   "outputs": [
    {
     "name": "stdout",
     "output_type": "stream",
     "text": [
      "2359\n",
      "2131\n"
     ]
    }
   ],
   "source": [
    "from copy import deepcopy\n",
    "\n",
    "c2n = {'.': -1, 'L': 0, '#': 1}\n",
    "n2c = {v: k for k, v in c2n.items()}\n",
    "\n",
    "data = []\n",
    "with open('Inputday11.txt') as file:\n",
    "    for line in file:\n",
    "        data.append([c2n[c] for c in line.strip()])\n",
    "\n",
    "w, h = len(data[0]), len(data)\n",
    "\n",
    "def neighbours(area, row, col, thresh, part):\n",
    "    n = 0\n",
    "    for i in range(-1, 2):\n",
    "        for j in range(-1, 2):\n",
    "            if i or j:\n",
    "                r = row + i\n",
    "                c = col + j\n",
    "                while r >= 0 and r < h and c >= 0 and c < w:\n",
    "                    if area[r][c] != -1 or part == 1:\n",
    "                        if area[r][c] == 1:\n",
    "                            n += 1\n",
    "                            if n == thresh:\n",
    "                                return n\n",
    "                        break\n",
    "                    r += i\n",
    "                    c += j\n",
    "    return n\n",
    "\n",
    "def evolve(a1, a2, part):\n",
    "    changed = False\n",
    "    for r in range(0, h):\n",
    "        for c in range(0, w):\n",
    "            if a1[r][c] == 0:\n",
    "                if neighbours(a1, r, c, 1, part) == 0:\n",
    "                    a2[r][c] = 1\n",
    "                    changed = True\n",
    "                else:\n",
    "                    a2[r][c] = 0\n",
    "            elif a1[r][c] == 1:\n",
    "                if neighbours(a1, r, c, 3 + part, part) >= 3 + part:\n",
    "                    a2[r][c] = 0\n",
    "                    changed = True\n",
    "                else:\n",
    "                    a2[r][c] = 1\n",
    "    return changed\n",
    "\n",
    "def occupied(area):\n",
    "    n = 0\n",
    "    for row in area:\n",
    "        for seat in row:\n",
    "            if seat == 1:\n",
    "                n += 1\n",
    "    return n\n",
    "\n",
    "for p in range(1, 3):\n",
    "    a = deepcopy(data)\n",
    "    b = deepcopy(data)\n",
    "    while evolve(a, b, p):\n",
    "        a, b = b, a\n",
    "    print(occupied(a))"
   ]
  },
  {
   "cell_type": "code",
   "execution_count": null,
   "metadata": {},
   "outputs": [],
   "source": []
  }
 ],
 "metadata": {
  "kernelspec": {
   "display_name": "Python 3",
   "language": "python",
   "name": "python3"
  },
  "language_info": {
   "codemirror_mode": {
    "name": "ipython",
    "version": 3
   },
   "file_extension": ".py",
   "mimetype": "text/x-python",
   "name": "python",
   "nbconvert_exporter": "python",
   "pygments_lexer": "ipython3",
   "version": "3.8.5"
  }
 },
 "nbformat": 4,
 "nbformat_minor": 4
}
