{
 "cells": [
  {
   "cell_type": "code",
   "execution_count": 3,
   "metadata": {},
   "outputs": [
    {
     "name": "stdout",
     "output_type": "stream",
     "text": [
      "370\n",
      "894954360381385\n"
     ]
    }
   ],
   "source": [
    "with open('Inputday13.txt') as file:\n",
    "    data = file.readlines()\n",
    "    data = [ line.strip() for line in data ]\n",
    "    data[1] = data[1].split(',')\n",
    "\n",
    "def get_id_minutes():\n",
    "    arrival = int(data[0])\n",
    "    ids = data[1]\n",
    "\n",
    "    lowest = 99999999999999\n",
    "    lowID = 0\n",
    "    for item in ids:\n",
    "        if item != 'x':\n",
    "            id = int(item)\n",
    "        else:\n",
    "            continue\n",
    "\n",
    "        idMultiple = arrival // id\n",
    "        difference = (id * (idMultiple+1)) - arrival\n",
    "        if difference < lowest:\n",
    "            lowest = difference\n",
    "            lowID = id\n",
    "\n",
    "    return lowID * lowest\n",
    "\n",
    "print(get_id_minutes())\n",
    "\n",
    "# part two\n",
    "\n",
    "def mod_inverse(a,n):\n",
    "    # find some x such that (a*x) % n == 1\n",
    "    a = a % n\n",
    "    if n == 1:\n",
    "        return 1\n",
    "    for x in range(1, n):\n",
    "        if (a*x) % n == 1:\n",
    "            return x\n",
    "    \n",
    "# n busses\n",
    "# bus k at index i departs at a time t+i\n",
    "# t+i % k == 0\n",
    "# t % k == -i\n",
    "# t % k = k-i\n",
    "# index = (k - (i%k)) % k\n",
    "def get_earliest_time():\n",
    "    ids = []\n",
    "    fullProduct = 1\n",
    "    for i in range(len(data[1])):\n",
    "        item = data[1][i]\n",
    "        if item != 'x':\n",
    "            k = int(item)\n",
    "            i = i % k\n",
    "            ids.append(((k-i)%k,k))\n",
    "            fullProduct *= k\n",
    "\n",
    "    total = 0\n",
    "    for i,k in ids:\n",
    "        partialProduct = fullProduct // k\n",
    "\n",
    "        inverse = mod_inverse(partialProduct,k)\n",
    "        assert (inverse * partialProduct) % k == 1\n",
    "\n",
    "        term = inverse * partialProduct * i\n",
    "        total += term\n",
    "\n",
    "    return total % fullProduct\n",
    "\n",
    "\n",
    "print(get_earliest_time())\n"
   ]
  },
  {
   "cell_type": "code",
   "execution_count": null,
   "metadata": {},
   "outputs": [],
   "source": []
  },
  {
   "cell_type": "code",
   "execution_count": null,
   "metadata": {},
   "outputs": [],
   "source": []
  }
 ],
 "metadata": {
  "kernelspec": {
   "display_name": "Python 3",
   "language": "python",
   "name": "python3"
  },
  "language_info": {
   "codemirror_mode": {
    "name": "ipython",
    "version": 3
   },
   "file_extension": ".py",
   "mimetype": "text/x-python",
   "name": "python",
   "nbconvert_exporter": "python",
   "pygments_lexer": "ipython3",
   "version": "3.7.6"
  }
 },
 "nbformat": 4,
 "nbformat_minor": 4
}
