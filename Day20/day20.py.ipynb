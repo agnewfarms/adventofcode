{
 "cells": [
  {
   "cell_type": "code",
   "execution_count": 12,
   "metadata": {},
   "outputs": [],
   "source": [
    "import numpy as np\n",
    "import re\n",
    "from itertools import combinations\n",
    "\n",
    "with open(\"Inputday20.txt\", \"r\") as f:\n",
    "    data = [l.rstrip().replace(\".\", \"0\").replace(\"#\", \"1\") for l in f.readlines()]"
   ]
  },
  {
   "cell_type": "code",
   "execution_count": 13,
   "metadata": {},
   "outputs": [],
   "source": [
    "tile_number = None\n",
    "tile_data = []\n",
    "tiles = {}\n",
    "\n",
    "for line in data:\n",
    "    if line.startswith(\"Tile\"):\n",
    "        tile_number = int(re.findall(r\"\\d+\", line)[0])\n",
    "    elif line.isnumeric():\n",
    "        tile_data.append([int(l) for l in line])\n",
    "    else:\n",
    "        tiles[tile_number] = np.array(tile_data)\n",
    "        tile_number = None\n",
    "        tile_data = []\n",
    "        \n",
    "tiles[tile_number] = np.array(tile_data)"
   ]
  },
  {
   "cell_type": "code",
   "execution_count": 14,
   "metadata": {},
   "outputs": [],
   "source": [
    "def compare_tiles(x1, x2):\n",
    "    edges = [(0, 0), (0, -1), (-1, 0), (-1, -1)]\n",
    "    flips = [(1, 1), (1, -1), (-1, 1), (-1, -1)]\n",
    "    \n",
    "    tests = []\n",
    "    for fa, fb in flips:\n",
    "        for a, b in edges:\n",
    "            tests.append(np.array_equal(x1[a][::fa], x2[b][::fb]))\n",
    "            tests.append(np.array_equal(x1[:, a][::fa], x2[:, b][::fb]))\n",
    "            tests.append(np.array_equal(x1[a][::fa], x2[:, b][::fb]))\n",
    "            tests.append(np.array_equal(x1[:, a][::fa], x2[b][::fb]))\n",
    "    return np.any(tests)"
   ]
  },
  {
   "cell_type": "code",
   "execution_count": 15,
   "metadata": {},
   "outputs": [
    {
     "data": {
      "text/plain": [
       "8581320593371"
      ]
     },
     "execution_count": 15,
     "metadata": {},
     "output_type": "execute_result"
    }
   ],
   "source": [
    "matching_edges = {}\n",
    "\n",
    "for k1 in tiles.keys():\n",
    "    count = 0\n",
    "    for k2 in tiles.keys():\n",
    "        if k1 == k2:\n",
    "            continue\n",
    "        else:\n",
    "            if compare_tiles(tiles[k1], tiles[k2]):\n",
    "                count += 1\n",
    "                \n",
    "    matching_edges[k1] = count\n",
    "\n",
    "corner_ids = [k for k, v in matching_edges.items() if v == 2]\n",
    "np.product(corner_ids, dtype=np.int64)"
   ]
  },
  {
   "cell_type": "code",
   "execution_count": 16,
   "metadata": {},
   "outputs": [],
   "source": [
    "def find_piece(index, puzzle, exclude_list=[]):\n",
    "    r, c = index\n",
    "    upper = (max(0, r - 1), c)\n",
    "    lower = (min(puzzle.shape[1] - 1, r + 1), c)\n",
    "    left = (r, max(0, c - 1))\n",
    "    right = (r, min(puzzle.shape[0] - 1, c + 1))\n",
    "    adjacent_coords = [upper, lower, left, right]\n",
    "    \n",
    "    adjacent_tiles = {puzzle[c]: tiles[puzzle[c]] for c in adjacent_coords if puzzle[c] != 0}\n",
    "    n_adjacent = len(adjacent_tiles.keys())\n",
    "    \n",
    "    for k1, v1 in tiles.items():\n",
    "        if k1 in puzzle or k1 in exclude_list:\n",
    "            continue\n",
    "        else:\n",
    "            count = 0\n",
    "            for k2, v2 in adjacent_tiles.items():\n",
    "                if compare_tiles(tiles[k1], tiles[k2]):\n",
    "                    count += 1\n",
    "            if count == n_adjacent:\n",
    "                return k1\n",
    "    return None"
   ]
  },
  {
   "cell_type": "code",
   "execution_count": 17,
   "metadata": {},
   "outputs": [],
   "source": [
    "def solve_puzzle(matching_edges):\n",
    "    puzzle_size = int(np.sqrt(len(tiles.keys())))\n",
    "    puzzle = np.zeros((puzzle_size, puzzle_size), dtype=int)\n",
    "    puzzle[0, 0] = corner_ids[0]\n",
    "\n",
    "    non_edge_tiles = [k for k, v in matching_edges.items() if v == 4]\n",
    "\n",
    "    # Fill in the edges first\n",
    "    for index, item in np.ndenumerate(puzzle):\n",
    "        if item == 0 and (index[0] == 0 or index[1] == 0 or index[0] == puzzle_size - 1 or index[1] == puzzle_size - 1):\n",
    "            puzzle[index] = find_piece(index, puzzle, non_edge_tiles)\n",
    "\n",
    "    # Fill the inner pieces\n",
    "    for index, item in np.ndenumerate(puzzle):\n",
    "        if item == 0:\n",
    "            puzzle[index] = find_piece(index, puzzle)\n",
    "            \n",
    "    return puzzle"
   ]
  },
  {
   "cell_type": "code",
   "execution_count": 18,
   "metadata": {},
   "outputs": [
    {
     "data": {
      "text/plain": [
       "array([[1091, 2797, 2269, 2029, 3187, 3331, 1279, 1153, 1193, 2273, 3923,\n",
       "        2297],\n",
       "       [3907, 3719, 2339, 1951, 2467, 2237, 2731, 3361, 1259, 1231, 3389,\n",
       "        3727],\n",
       "       [2833, 2749, 2389, 3299, 3499, 3467, 2837, 3061, 1217, 3067, 2251,\n",
       "        2903],\n",
       "       [1373, 3671, 2543, 3919, 1879, 2179, 1033, 3761, 2039, 3209, 1567,\n",
       "        3833],\n",
       "       [3449, 2843, 3181, 2633, 2591, 3217, 3529, 2153, 2521, 1307, 2243,\n",
       "        3793],\n",
       "       [3571, 1913, 3593, 1291, 3547, 1783, 1109, 1303, 3041, 3259, 3691,\n",
       "        1543],\n",
       "       [2089, 3121, 3739, 1579, 3323, 1873, 3581, 2969, 1861, 3613, 2423,\n",
       "        3797],\n",
       "       [2909, 2579, 3109, 2351, 3391, 2609, 3019, 2141, 1907, 2879, 1697,\n",
       "        2927],\n",
       "       [1087, 2267, 1949, 3607, 3967, 1483, 2333, 3709, 3407, 2221, 2713,\n",
       "        2851],\n",
       "       [1019, 2657, 3457, 3469, 1721, 2383, 2111, 2473, 1523, 1171, 1361,\n",
       "        2539],\n",
       "       [3313, 3343, 3511, 3701, 3319, 1237, 3947, 3203, 3863, 1097, 1327,\n",
       "        2053],\n",
       "       [1459, 1597, 3677, 1429, 2741, 1451, 2129, 2791, 1013, 2311, 2683,\n",
       "        2347]])"
      ]
     },
     "execution_count": 18,
     "metadata": {},
     "output_type": "execute_result"
    }
   ],
   "source": [
    "puzzle = solve_puzzle(matching_edges)\n",
    "puzzle"
   ]
  },
  {
   "cell_type": "code",
   "execution_count": 19,
   "metadata": {},
   "outputs": [],
   "source": [
    "def transform(x, k):\n",
    "    if k == 0:\n",
    "        return x\n",
    "    elif k == 1:\n",
    "        return np.rot90(x)\n",
    "    elif k == 2:\n",
    "        return np.rot90(x, 2)\n",
    "    elif k == 3:\n",
    "        return np.rot90(x, 3)\n",
    "    elif k == 4:\n",
    "        return np.fliplr(x)\n",
    "    elif k == 5:\n",
    "        return np.fliplr(np.rot90(x))\n",
    "    elif k == 6:\n",
    "        return np.fliplr(np.rot90(x, 2))\n",
    "    elif k == 7:\n",
    "        return np.fliplr(np.rot90(x, 3))\n",
    "    elif k == 8:\n",
    "        return np.flipud(x)\n",
    "    elif k == 9:\n",
    "        return np.flipud(np.rot90(x))\n",
    "    elif k == 10:\n",
    "        return np.flipud(np.rot90(x, 2))\n",
    "    elif k == 11:\n",
    "        return np.flipud(np.rot90(x, 3))\n",
    "    elif k == 12:\n",
    "        return np.flip(x)\n",
    "    elif k == 13:\n",
    "        return np.flip(np.rot90(x))\n",
    "    elif k == 14:\n",
    "        return np.flip(np.rot90(x, 2))\n",
    "    elif k == 15:\n",
    "        return np.flip(np.rot90(x, 3))\n",
    "    elif k == 16:\n",
    "        return np.transpose(x)\n",
    "    elif k == 17:\n",
    "        return np.transpose(np.rot90(x))\n",
    "    elif k == 18:\n",
    "        return np.transpose(np.rot90(x, 2))\n",
    "    elif k == 19:\n",
    "        return np.transpose(np.rot90(x, 3))"
   ]
  },
  {
   "cell_type": "code",
   "execution_count": 20,
   "metadata": {},
   "outputs": [],
   "source": [
    "def check_tile_alignment(a, b, c, d):\n",
    "    cond1 = np.array_equal(a[:, -1], b[:, 0])\n",
    "    cond2 = np.array_equal(c[:, -1], d[:, 0])\n",
    "    cond3 = np.array_equal(a[-1], c[0])\n",
    "    cond4 = np.array_equal(b[-1], d[0])\n",
    "    return np.all([cond1, cond2, cond3, cond4])\n",
    "\n",
    "\n",
    "# Brute force search in a 2x2 area [[a, b], [c, d]]\n",
    "def align_tiles(tiles):\n",
    "    a, b, c, d = tiles\n",
    "\n",
    "    for i in range(20):\n",
    "        for j in range(20):\n",
    "            for k in range(20):\n",
    "                for l in range(20):\n",
    "                    a_t = transform(a, i)\n",
    "                    b_t = transform(b, j)\n",
    "                    c_t = transform(c, k)\n",
    "                    d_t = transform(d, l)\n",
    "                    if check_tile_alignment(a_t, b_t, c_t, d_t):\n",
    "                        return a_t, b_t, c_t, d_t"
   ]
  },
  {
   "cell_type": "code",
   "execution_count": 21,
   "metadata": {},
   "outputs": [],
   "source": [
    "# Orientate tiles\n",
    "tiles_oriented = {}\n",
    "\n",
    "for index, item in np.ndenumerate(puzzle[:-1, :-1]):\n",
    "    row, col = index\n",
    "    coords = [(row, col), (row, col + 1), (row + 1, col), (row + 1, col + 1)]\n",
    "    tile_names = [puzzle[c] for c in coords]\n",
    "    tiles2x2 = [tiles[n] for n in tile_names]\n",
    "\n",
    "    out = align_tiles(tiles2x2)\n",
    "    for name, img_part in zip(tile_names, out):\n",
    "        if name not in tiles_oriented.keys():\n",
    "            tiles_oriented[name] = img_part[1:-1, 1:-1]\n",
    "\n",
    "# Build image\n",
    "img = []\n",
    "for row in puzzle:\n",
    "    img.append(np.concatenate([tiles_oriented[i] for i in row], 1))\n",
    "    \n",
    "img = np.concatenate(img)"
   ]
  },
  {
   "cell_type": "code",
   "execution_count": 22,
   "metadata": {},
   "outputs": [
    {
     "data": {
      "text/plain": [
       "(96, 96)"
      ]
     },
     "execution_count": 22,
     "metadata": {},
     "output_type": "execute_result"
    }
   ],
   "source": [
    "img.shape"
   ]
  },
  {
   "cell_type": "code",
   "execution_count": 23,
   "metadata": {},
   "outputs": [
    {
     "data": {
      "text/plain": [
       "(3, 20)"
      ]
     },
     "execution_count": 23,
     "metadata": {},
     "output_type": "execute_result"
    }
   ],
   "source": [
    "monster = [[0, 0, 0, 0, 0, 0, 0, 0, 0, 0, 0, 0, 0, 0, 0, 0, 0, 0, 1, 0],\n",
    "           [1, 0, 0, 0, 0, 1, 1, 0, 0, 0, 0, 1, 1, 0, 0, 0, 0, 1, 1, 1],\n",
    "           [0, 1, 0, 0, 1, 0, 0, 1, 0, 0, 1, 0, 0, 1, 0, 0, 1, 0, 0, 0]]\n",
    "monster = np.array(monster)\n",
    "monster.shape"
   ]
  },
  {
   "cell_type": "code",
   "execution_count": 24,
   "metadata": {},
   "outputs": [],
   "source": [
    "def check_for_monsters(img):\n",
    "    count = 0\n",
    "    for index, item in np.ndenumerate(img[:-monster.shape[0], :-monster.shape[1]]):\n",
    "        row, col = index\n",
    "        window = img[row:row + monster.shape[0], col:col+monster.shape[1]]\n",
    "\n",
    "        if np.array_equal(window * monster, monster):\n",
    "            count += 1\n",
    "    if count > 0:\n",
    "        print(f\"Found {count} monsters\")\n",
    "        return count\n",
    "    else:\n",
    "        return None"
   ]
  },
  {
   "cell_type": "code",
   "execution_count": 25,
   "metadata": {},
   "outputs": [
    {
     "name": "stdout",
     "output_type": "stream",
     "text": [
      "Found 43 monsters\n",
      "2031\n"
     ]
    }
   ],
   "source": [
    "for i in range(20):\n",
    "    monster_count = check_for_monsters(transform(img, i))\n",
    "    if monster_count is not None:\n",
    "        print(np.sum(img) - monster_count * np.sum(monster))\n",
    "        break"
   ]
  }
 ],
 "metadata": {
  "kernelspec": {
   "display_name": "Python 3",
   "language": "python",
   "name": "python3"
  },
  "language_info": {
   "codemirror_mode": {
    "name": "ipython",
    "version": 3
   },
   "file_extension": ".py",
   "mimetype": "text/x-python",
   "name": "python",
   "nbconvert_exporter": "python",
   "pygments_lexer": "ipython3",
   "version": "3.7.6"
  }
 },
 "nbformat": 4,
 "nbformat_minor": 4
}
