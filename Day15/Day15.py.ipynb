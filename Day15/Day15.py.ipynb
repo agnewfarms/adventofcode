{
 "cells": [
  {
   "cell_type": "code",
   "execution_count": 2,
   "metadata": {},
   "outputs": [
    {
     "name": "stdout",
     "output_type": "stream",
     "text": [
      "620\n",
      "110871\n"
     ]
    }
   ],
   "source": [
    "with open('Inputday15.txt') as file:\n",
    "    data = file.readlines()\n",
    "    data = data[0].split(',')\n",
    "    data = [ int(num) for num in data ]\n",
    "\n",
    "def play_memory_game(size):\n",
    "    mem = {}\n",
    "\n",
    "    for i in range(len(data)-1):\n",
    "        num = data[i]\n",
    "        mem[num] = i\n",
    "\n",
    "    for i in range(len(data)-1,size-1):\n",
    "        num = data[i]\n",
    "\n",
    "        if num not in mem:\n",
    "            data.append(0)\n",
    "            mem[num] = i\n",
    "\n",
    "        else:\n",
    "            j = mem[num]\n",
    "            newNum = i - j\n",
    "            data.append(newNum)\n",
    "            mem[num] = i\n",
    "\n",
    "    return data[-1]\n",
    "\n",
    "print(play_memory_game(2020))\n",
    "print(play_memory_game(30000000))\n"
   ]
  },
  {
   "cell_type": "code",
   "execution_count": null,
   "metadata": {},
   "outputs": [],
   "source": []
  }
 ],
 "metadata": {
  "kernelspec": {
   "display_name": "Python 3",
   "language": "python",
   "name": "python3"
  },
  "language_info": {
   "codemirror_mode": {
    "name": "ipython",
    "version": 3
   },
   "file_extension": ".py",
   "mimetype": "text/x-python",
   "name": "python",
   "nbconvert_exporter": "python",
   "pygments_lexer": "ipython3",
   "version": "3.7.6"
  }
 },
 "nbformat": 4,
 "nbformat_minor": 4
}
